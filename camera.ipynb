{
 "cells": [
  {
   "cell_type": "code",
   "execution_count": 1,
   "id": "a0a86ce5-0340-437d-a4ba-0487423eacea",
   "metadata": {},
   "outputs": [],
   "source": [
    "import numpy as np"
   ]
  },
  {
   "cell_type": "code",
   "execution_count": 2,
   "id": "6db1ea22-be9d-4c14-b1fc-b5384af4aba5",
   "metadata": {},
   "outputs": [],
   "source": [
    "import cv2"
   ]
  },
  {
   "cell_type": "code",
   "execution_count": 2,
   "id": "fdaea265-7719-4fce-bec8-8fc14a41b3f1",
   "metadata": {},
   "outputs": [],
   "source": [
    "EMOTION_LABELS = {\n",
    "    0: 'Angry',\n",
    "    1: 'Disgust',\n",
    "    2: 'Fear',\n",
    "    3: 'Happy',\n",
    "    4: 'Sad',\n",
    "    5: 'Surprise',\n",
    "    6: 'Neutral'\n",
    "}"
   ]
  },
  {
   "cell_type": "code",
   "execution_count": null,
   "id": "7bd5d9b6-130d-4527-bae7-b85403644db0",
   "metadata": {},
   "outputs": [],
   "source": [
    "def model_video(model):\n",
    "    face_cascade = cv2.CascadeClassifier(cv2.data.haarcascades + 'haarcascade_frontalface_default.xml')\n",
    "    cap = cv2.VideoCapture(0)\n",
    "\n",
    "    if not cap.isOpened():\n",
    "        print(\"Webcam could not be opened.\")\n",
    "        return\n",
    "\n",
    "    while True:\n",
    "\n",
    "        if cv2.waitKey(1) & 0xFF == ord('q'):\n",
    "            break\n",
    "        \n",
    "        ret, frame = cap.read()\n",
    "        if not ret:\n",
    "            print(\"Could not read frame.\")\n",
    "\n",
    "        gray = cv2.cvtColor(frame, cv2.COLOR_BGR2GRAY)\n",
    "        \n",
    "        faces = face_cascade.detectMultiScale(gray, scaleFactor=1.1, minNeighbors=5, minSize=(30, 30))\n",
    "       \n",
    "        for (x, y, w, h) in faces:\n",
    "            face = frame[y:y+h, x:x+w]\n",
    "            face_resized = cv2.resize(face, (48, 48))\n",
    "            face_normalized = face_resized / 255.0\n",
    "            face_tensor = torch.tensor(face_normalized).unsqueeze(0).unsqueeze(0).float().to(device)\n",
    "            \n",
    "            model.eval()\n",
    "            with torch.no_grad():\n",
    "                outputs = model(face_tensor)\n",
    "                _, predicted = torch.max(outputs, 1)\n",
    "                emotion = EMOTION_LABELS[predicted.item()]\n",
    "            \n",
    "            cv2.rectangle(frame, (x, y), (x + w, y + h), (0, 255, 0), 2)\n",
    "            cv2.putText(frame, emotion, (x, y - 10), cv2.FONT_HERSHEY_SIMPLEX, \n",
    "                        0.6, (0, 255, 0), 2, cv2.LINE_AA)\n",
    "    cap.release()\n",
    "    cv2.destroyAllWindows()"
   ]
  }
 ],
 "metadata": {
  "kernelspec": {
   "display_name": "Python 3 (ipykernel)",
   "language": "python",
   "name": "python3"
  },
  "language_info": {
   "codemirror_mode": {
    "name": "ipython",
    "version": 3
   },
   "file_extension": ".py",
   "mimetype": "text/x-python",
   "name": "python",
   "nbconvert_exporter": "python",
   "pygments_lexer": "ipython3",
   "version": "3.9.6"
  }
 },
 "nbformat": 4,
 "nbformat_minor": 5
}
