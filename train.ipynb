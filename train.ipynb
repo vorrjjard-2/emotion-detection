{
 "cells": [
  {
   "cell_type": "code",
   "execution_count": 4,
   "id": "33819076-f1a6-43b2-913f-4f20fb583d70",
   "metadata": {},
   "outputs": [],
   "source": [
    "import os\n",
    "import sys\n",
    "\n",
    "from models.model import FER2013CNN"
   ]
  },
  {
   "cell_type": "code",
   "execution_count": 5,
   "id": "2d0b2ff8-92e8-4b28-9e3f-faa37158a15d",
   "metadata": {},
   "outputs": [],
   "source": [
    "#main imports\n",
    "\n",
    "import numpy as np\n",
    "import pandas as pd\n",
    "\n",
    "import torch\n",
    "import torch.nn as nn\n",
    "import torch.optim as optim\n",
    "import torch.nn.functional as F\n",
    "from torch.utils.data import DataLoader, Dataset\n",
    "from torchvision import datasets, transforms\n",
    "from torchsummary import summary\n",
    "\n",
    "from tqdm import tqdm\n",
    "import cv2"
   ]
  },
  {
   "cell_type": "code",
   "execution_count": 6,
   "id": "10fed7cc-77aa-4713-b25d-faf7f9fdb973",
   "metadata": {},
   "outputs": [],
   "source": [
    "from data.dataloader import load_dataloader"
   ]
  },
  {
   "cell_type": "code",
   "execution_count": 7,
   "id": "539849b4-9002-4ed4-8804-ee42484a6ecd",
   "metadata": {},
   "outputs": [
    {
     "name": "stdout",
     "output_type": "stream",
     "text": [
      "True\n"
     ]
    }
   ],
   "source": [
    "print(torch.backends.mps.is_available())"
   ]
  },
  {
   "cell_type": "code",
   "execution_count": 8,
   "id": "35229195-9e2a-4078-b589-faef3264eed6",
   "metadata": {},
   "outputs": [],
   "source": [
    "def train_model(model, train_loader, criterion, optimizer, epochs, val_loader=None):\n",
    "\n",
    "    device = torch.device(\"mps\" if torch.backends.mps.is_available() else \"cpu\")\n",
    "    model = model.to(device)\n",
    "    \n",
    "    train_accuracies = []\n",
    "    val_accuracies = []\n",
    "    \n",
    "    for epoch in range(1, epochs + 1):\n",
    "        model.train()  \n",
    "        epoch_loss = 0.0\n",
    "        \n",
    "        correct, total = 0, 0\n",
    "        \n",
    "        with tqdm(train_loader, unit=\"batch\", desc=f\"Epoch {epoch}/{epochs}\") as pbar:\n",
    "            for images, labels in pbar:\n",
    "\n",
    "                images = images.to(device)\n",
    "                labels = labels.to(device)\n",
    "                \n",
    "                optimizer.zero_grad()  # Reset gradients\n",
    "                outputs = model(images)  # Feed images to model\n",
    "                loss = criterion(outputs, labels)\n",
    "                loss.backward()  # Get gradients\n",
    "                optimizer.step()  # Apply gradients\n",
    "\n",
    "                epoch_loss += loss.item()\n",
    "                _, prediction = torch.max(outputs, 1)\n",
    "                correct += (prediction == labels).sum().item()\n",
    "                total += labels.size(0)\n",
    "\n",
    "                # Update the tqdm description (optional)\n",
    "                pbar.set_postfix(loss=epoch_loss / total, accuracy=100 * correct / total)\n",
    "\n",
    "        if epoch % 5 == 0 and val_loader:\n",
    "            model.eval()\n",
    "            val_loss = 0.0\n",
    "            val_correct = 0.0\n",
    "            val_total = 0.0\n",
    "\n",
    "            with torch.no_grad():     \n",
    "                 with tqdm(val_loader, unit=\"batch\", desc=f\"Validation Round {epoch // 5}\") as vpbar:\n",
    "                    for images, labels in vpbar:\n",
    "                        images = images.to(device)\n",
    "                        labels = labels.to(device)\n",
    "                        outputs = model(images)\n",
    "                        loss = criterion(outputs, labels)\n",
    "    \n",
    "                        val_loss += loss.item()\n",
    "                        _, prediction = torch.max(outputs, 1)\n",
    "                        val_correct += (prediction == labels).sum().item()\n",
    "                        val_total += labels.size(0)\n",
    "\n",
    "                        val_acc = 100 * val_correct / val_total\n",
    "                        vpbar.set_postfix(loss=val_loss / val_total, accuracy=val_acc)\n",
    "            val_accuracies.append(val_acc)\n",
    "        train_acc = 100 * correct / total\n",
    "        train_accuracies.append(train_acc)\n",
    "        print(f\"Epoch {epoch} : Train Accuracy = {train_acc:.2f}%, Loss = {epoch_loss:.4f}\")\n",
    "    \n",
    "    return model, train_accuracies, val_accuracies"
   ]
  },
  {
   "cell_type": "code",
   "execution_count": 9,
   "id": "982a8dc7-1ba5-4f7e-947c-8485a4d9299b",
   "metadata": {},
   "outputs": [],
   "source": [
    "cnn = FER2013CNN(num_classes=7)"
   ]
  },
  {
   "cell_type": "code",
   "execution_count": 10,
   "id": "f7d7102e-7c50-4bf2-9629-7f916372d3a2",
   "metadata": {},
   "outputs": [],
   "source": [
    "criterion = nn.CrossEntropyLoss()"
   ]
  },
  {
   "cell_type": "code",
   "execution_count": 11,
   "id": "94ae754a-7a68-4f8c-a73a-5f5bad038260",
   "metadata": {},
   "outputs": [],
   "source": [
    "optimizer = optim.Adam(cnn.parameters(), lr=1e-3)"
   ]
  },
  {
   "cell_type": "code",
   "execution_count": 12,
   "id": "f057ea9e-d6a4-4257-801a-73307e783c27",
   "metadata": {},
   "outputs": [],
   "source": [
    "train_transform = transforms.Compose([\n",
    "    transforms.ToTensor(),  \n",
    "    transforms.RandomHorizontalFlip(),  \n",
    "    transforms.RandomRotation(10),\n",
    "    transforms.Normalize(mean=[0.5], std=[0.5])  \n",
    "])\n",
    "\n",
    "val_transform = transforms.Compose([\n",
    "    transforms.ToTensor(),\n",
    "    transforms.Normalize(mean=[0.5], std=[0.5])\n",
    "])"
   ]
  },
  {
   "cell_type": "code",
   "execution_count": 13,
   "id": "ab77dc7f-4cb8-407c-84ed-71ce0c70761f",
   "metadata": {},
   "outputs": [],
   "source": [
    "train_loader = load_dataloader(\"data/dataset/fer2013.csv\", 'train', 32, transform=train_transform)\n",
    "val_loader = load_dataloader(\"data/dataset/fer2013.csv\", 'val', 32, transform=val_transform)"
   ]
  },
  {
   "cell_type": "code",
   "execution_count": 14,
   "id": "58b33529-d9fa-4adc-b7ad-436dc4f9cd03",
   "metadata": {},
   "outputs": [
    {
     "name": "stdout",
     "output_type": "stream",
     "text": [
      "test passed!\n",
      "test passed!\n"
     ]
    }
   ],
   "source": [
    "for images, labels in train_loader:\n",
    "    assert images.size() == torch.Size([32, 1, 48, 48])\n",
    "    assert labels.dtype == torch.int64\n",
    "    print(\"test passed!\")\n",
    "    break\n",
    "\n",
    "for images, labels in val_loader:\n",
    "    assert images.size() == torch.Size([32, 1, 48, 48])\n",
    "    assert labels.dtype == torch.int64\n",
    "    print(\"test passed!\")\n",
    "    break"
   ]
  },
  {
   "cell_type": "code",
   "execution_count": 15,
   "id": "3d886a71-a3be-4095-a861-f1bf212d8bd0",
   "metadata": {},
   "outputs": [
    {
     "name": "stderr",
     "output_type": "stream",
     "text": [
      "Epoch 1/70: 100%|█████████████████████████████████████████████████████████████████████████| 898/898 [00:16<00:00, 53.69batch/s, accuracy=29.2, loss=0.0547]\n"
     ]
    },
    {
     "name": "stdout",
     "output_type": "stream",
     "text": [
      "Epoch 1 : Train Accuracy = 29.17%, Loss = 1570.3833\n"
     ]
    },
    {
     "name": "stderr",
     "output_type": "stream",
     "text": [
      "Epoch 2/70: 100%|█████████████████████████████████████████████████████████████████████████████| 898/898 [00:16<00:00, 55.05batch/s, accuracy=36, loss=0.05]\n"
     ]
    },
    {
     "name": "stdout",
     "output_type": "stream",
     "text": [
      "Epoch 2 : Train Accuracy = 35.95%, Loss = 1436.7755\n"
     ]
    },
    {
     "name": "stderr",
     "output_type": "stream",
     "text": [
      "Epoch 3/70: 100%|█████████████████████████████████████████████████████████████████████████| 898/898 [00:16<00:00, 52.89batch/s, accuracy=38.6, loss=0.0482]\n"
     ]
    },
    {
     "name": "stdout",
     "output_type": "stream",
     "text": [
      "Epoch 3 : Train Accuracy = 38.64%, Loss = 1382.4244\n"
     ]
    },
    {
     "name": "stderr",
     "output_type": "stream",
     "text": [
      "Epoch 4/70: 100%|██████████████████████████████████████████████████████████████████████████| 898/898 [00:17<00:00, 52.71batch/s, accuracy=40.6, loss=0.047]\n"
     ]
    },
    {
     "name": "stdout",
     "output_type": "stream",
     "text": [
      "Epoch 4 : Train Accuracy = 40.64%, Loss = 1349.9431\n"
     ]
    },
    {
     "name": "stderr",
     "output_type": "stream",
     "text": [
      "Epoch 5/70: 100%|█████████████████████████████████████████████████████████████████████████| 898/898 [00:17<00:00, 51.69batch/s, accuracy=41.2, loss=0.0462]\n",
      "Validation Round 1: 100%|████████████████████████████████████████████████████████████████| 113/113 [00:00<00:00, 241.23batch/s, accuracy=48.6, loss=0.0417]\n"
     ]
    },
    {
     "name": "stdout",
     "output_type": "stream",
     "text": [
      "Epoch 5 : Train Accuracy = 41.16%, Loss = 1326.1639\n"
     ]
    },
    {
     "name": "stderr",
     "output_type": "stream",
     "text": [
      "Epoch 6/70: 100%|█████████████████████████████████████████████████████████████████████████| 898/898 [00:17<00:00, 51.87batch/s, accuracy=41.9, loss=0.0457]\n"
     ]
    },
    {
     "name": "stdout",
     "output_type": "stream",
     "text": [
      "Epoch 6 : Train Accuracy = 41.86%, Loss = 1311.8369\n"
     ]
    },
    {
     "name": "stderr",
     "output_type": "stream",
     "text": [
      "Epoch 7/70: 100%|█████████████████████████████████████████████████████████████████████████| 898/898 [00:17<00:00, 52.44batch/s, accuracy=42.8, loss=0.0451]\n"
     ]
    },
    {
     "name": "stdout",
     "output_type": "stream",
     "text": [
      "Epoch 7 : Train Accuracy = 42.81%, Loss = 1293.7002\n"
     ]
    },
    {
     "name": "stderr",
     "output_type": "stream",
     "text": [
      "Epoch 8/70: 100%|█████████████████████████████████████████████████████████████████████████| 898/898 [00:17<00:00, 52.57batch/s, accuracy=43.7, loss=0.0446]\n"
     ]
    },
    {
     "name": "stdout",
     "output_type": "stream",
     "text": [
      "Epoch 8 : Train Accuracy = 43.74%, Loss = 1279.2154\n"
     ]
    },
    {
     "name": "stderr",
     "output_type": "stream",
     "text": [
      "Epoch 9/70: 100%|█████████████████████████████████████████████████████████████████████████| 898/898 [00:16<00:00, 53.08batch/s, accuracy=44.2, loss=0.0442]\n"
     ]
    },
    {
     "name": "stdout",
     "output_type": "stream",
     "text": [
      "Epoch 9 : Train Accuracy = 44.23%, Loss = 1268.8154\n"
     ]
    },
    {
     "name": "stderr",
     "output_type": "stream",
     "text": [
      "Epoch 10/70: 100%|████████████████████████████████████████████████████████████████████████| 898/898 [00:17<00:00, 52.76batch/s, accuracy=45.2, loss=0.0437]\n",
      "Validation Round 2: 100%|████████████████████████████████████████████████████████████████| 113/113 [00:00<00:00, 257.08batch/s, accuracy=52.3, loss=0.0398]\n"
     ]
    },
    {
     "name": "stdout",
     "output_type": "stream",
     "text": [
      "Epoch 10 : Train Accuracy = 45.17%, Loss = 1253.9778\n"
     ]
    },
    {
     "name": "stderr",
     "output_type": "stream",
     "text": [
      "Epoch 11/70: 100%|████████████████████████████████████████████████████████████████████████| 898/898 [00:17<00:00, 52.80batch/s, accuracy=45.6, loss=0.0431]\n"
     ]
    },
    {
     "name": "stdout",
     "output_type": "stream",
     "text": [
      "Epoch 11 : Train Accuracy = 45.61%, Loss = 1238.6121\n"
     ]
    },
    {
     "name": "stderr",
     "output_type": "stream",
     "text": [
      "Epoch 12/70: 100%|█████████████████████████████████████████████████████████████████████████| 898/898 [00:17<00:00, 51.90batch/s, accuracy=45.5, loss=0.043]\n"
     ]
    },
    {
     "name": "stdout",
     "output_type": "stream",
     "text": [
      "Epoch 12 : Train Accuracy = 45.52%, Loss = 1234.0988\n"
     ]
    },
    {
     "name": "stderr",
     "output_type": "stream",
     "text": [
      "Epoch 13/70: 100%|████████████████████████████████████████████████████████████████████████| 898/898 [00:17<00:00, 52.00batch/s, accuracy=45.7, loss=0.0429]\n"
     ]
    },
    {
     "name": "stdout",
     "output_type": "stream",
     "text": [
      "Epoch 13 : Train Accuracy = 45.66%, Loss = 1230.3404\n"
     ]
    },
    {
     "name": "stderr",
     "output_type": "stream",
     "text": [
      "Epoch 14/70: 100%|████████████████████████████████████████████████████████████████████████| 898/898 [00:17<00:00, 52.49batch/s, accuracy=46.5, loss=0.0425]\n"
     ]
    },
    {
     "name": "stdout",
     "output_type": "stream",
     "text": [
      "Epoch 14 : Train Accuracy = 46.50%, Loss = 1220.4445\n"
     ]
    },
    {
     "name": "stderr",
     "output_type": "stream",
     "text": [
      "Epoch 15/70: 100%|████████████████████████████████████████████████████████████████████████| 898/898 [00:17<00:00, 52.79batch/s, accuracy=46.8, loss=0.0423]\n",
      "Validation Round 3: 100%|████████████████████████████████████████████████████████████████| 113/113 [00:00<00:00, 255.88batch/s, accuracy=54.8, loss=0.0384]\n"
     ]
    },
    {
     "name": "stdout",
     "output_type": "stream",
     "text": [
      "Epoch 15 : Train Accuracy = 46.83%, Loss = 1214.9548\n"
     ]
    },
    {
     "name": "stderr",
     "output_type": "stream",
     "text": [
      "Epoch 16/70: 100%|████████████████████████████████████████████████████████████████████████| 898/898 [00:16<00:00, 52.85batch/s, accuracy=47.5, loss=0.0421]\n"
     ]
    },
    {
     "name": "stdout",
     "output_type": "stream",
     "text": [
      "Epoch 16 : Train Accuracy = 47.46%, Loss = 1207.4643\n"
     ]
    },
    {
     "name": "stderr",
     "output_type": "stream",
     "text": [
      "Epoch 17/70: 100%|████████████████████████████████████████████████████████████████████████| 898/898 [00:17<00:00, 52.04batch/s, accuracy=48.2, loss=0.0413]\n"
     ]
    },
    {
     "name": "stdout",
     "output_type": "stream",
     "text": [
      "Epoch 17 : Train Accuracy = 48.15%, Loss = 1186.8165\n"
     ]
    },
    {
     "name": "stderr",
     "output_type": "stream",
     "text": [
      "Epoch 18/70: 100%|████████████████████████████████████████████████████████████████████████| 898/898 [00:16<00:00, 52.91batch/s, accuracy=48.5, loss=0.0412]\n"
     ]
    },
    {
     "name": "stdout",
     "output_type": "stream",
     "text": [
      "Epoch 18 : Train Accuracy = 48.51%, Loss = 1183.3807\n"
     ]
    },
    {
     "name": "stderr",
     "output_type": "stream",
     "text": [
      "Epoch 19/70: 100%|█████████████████████████████████████████████████████████████████████████| 898/898 [00:17<00:00, 51.90batch/s, accuracy=48.9, loss=0.041]\n"
     ]
    },
    {
     "name": "stdout",
     "output_type": "stream",
     "text": [
      "Epoch 19 : Train Accuracy = 48.91%, Loss = 1176.4123\n"
     ]
    },
    {
     "name": "stderr",
     "output_type": "stream",
     "text": [
      "Epoch 20/70: 100%|████████████████████████████████████████████████████████████████████████| 898/898 [00:17<00:00, 51.24batch/s, accuracy=49.4, loss=0.0404]\n",
      "Validation Round 4: 100%|█████████████████████████████████████████████████████████████████| 113/113 [00:00<00:00, 251.12batch/s, accuracy=54.5, loss=0.038]\n"
     ]
    },
    {
     "name": "stdout",
     "output_type": "stream",
     "text": [
      "Epoch 20 : Train Accuracy = 49.36%, Loss = 1160.2989\n"
     ]
    },
    {
     "name": "stderr",
     "output_type": "stream",
     "text": [
      "Epoch 21/70: 100%|██████████████████████████████████████████████████████████████████████████| 898/898 [00:17<00:00, 50.75batch/s, accuracy=50, loss=0.0403]\n"
     ]
    },
    {
     "name": "stdout",
     "output_type": "stream",
     "text": [
      "Epoch 21 : Train Accuracy = 49.96%, Loss = 1156.1555\n"
     ]
    },
    {
     "name": "stderr",
     "output_type": "stream",
     "text": [
      "Epoch 22/70: 100%|████████████████████████████████████████████████████████████████████████| 898/898 [00:17<00:00, 51.10batch/s, accuracy=49.9, loss=0.0402]\n"
     ]
    },
    {
     "name": "stdout",
     "output_type": "stream",
     "text": [
      "Epoch 22 : Train Accuracy = 49.91%, Loss = 1153.7965\n"
     ]
    },
    {
     "name": "stderr",
     "output_type": "stream",
     "text": [
      "Epoch 23/70: 100%|████████████████████████████████████████████████████████████████████████| 898/898 [00:17<00:00, 52.10batch/s, accuracy=50.7, loss=0.0395]\n"
     ]
    },
    {
     "name": "stdout",
     "output_type": "stream",
     "text": [
      "Epoch 23 : Train Accuracy = 50.70%, Loss = 1134.7802\n"
     ]
    },
    {
     "name": "stderr",
     "output_type": "stream",
     "text": [
      "Epoch 24/70: 100%|█████████████████████████████████████████████████████████████████████████| 898/898 [00:17<00:00, 50.51batch/s, accuracy=51.3, loss=0.039]\n"
     ]
    },
    {
     "name": "stdout",
     "output_type": "stream",
     "text": [
      "Epoch 24 : Train Accuracy = 51.34%, Loss = 1118.9894\n"
     ]
    },
    {
     "name": "stderr",
     "output_type": "stream",
     "text": [
      "Epoch 25/70: 100%|████████████████████████████████████████████████████████████████████████| 898/898 [00:17<00:00, 51.71batch/s, accuracy=51.7, loss=0.0388]\n",
      "Validation Round 5: 100%|██████████████████████████████████████████████████████████████████| 113/113 [00:00<00:00, 247.04batch/s, accuracy=56, loss=0.0365]\n"
     ]
    },
    {
     "name": "stdout",
     "output_type": "stream",
     "text": [
      "Epoch 25 : Train Accuracy = 51.68%, Loss = 1115.2392\n"
     ]
    },
    {
     "name": "stderr",
     "output_type": "stream",
     "text": [
      "Epoch 26/70: 100%|██████████████████████████████████████████████████████████████████████████| 898/898 [00:17<00:00, 51.65batch/s, accuracy=52, loss=0.0385]\n"
     ]
    },
    {
     "name": "stdout",
     "output_type": "stream",
     "text": [
      "Epoch 26 : Train Accuracy = 52.05%, Loss = 1105.6083\n"
     ]
    },
    {
     "name": "stderr",
     "output_type": "stream",
     "text": [
      "Epoch 27/70: 100%|████████████████████████████████████████████████████████████████████████| 898/898 [00:17<00:00, 50.56batch/s, accuracy=52.6, loss=0.0382]\n"
     ]
    },
    {
     "name": "stdout",
     "output_type": "stream",
     "text": [
      "Epoch 27 : Train Accuracy = 52.58%, Loss = 1095.4907\n"
     ]
    },
    {
     "name": "stderr",
     "output_type": "stream",
     "text": [
      "Epoch 28/70: 100%|█████████████████████████████████████████████████████████████████████████| 898/898 [00:17<00:00, 51.18batch/s, accuracy=52.8, loss=0.038]\n"
     ]
    },
    {
     "name": "stdout",
     "output_type": "stream",
     "text": [
      "Epoch 28 : Train Accuracy = 52.79%, Loss = 1091.9638\n"
     ]
    },
    {
     "name": "stderr",
     "output_type": "stream",
     "text": [
      "Epoch 29/70: 100%|████████████████████████████████████████████████████████████████████████| 898/898 [00:17<00:00, 52.04batch/s, accuracy=53.5, loss=0.0379]\n"
     ]
    },
    {
     "name": "stdout",
     "output_type": "stream",
     "text": [
      "Epoch 29 : Train Accuracy = 53.51%, Loss = 1086.7514\n"
     ]
    },
    {
     "name": "stderr",
     "output_type": "stream",
     "text": [
      "Epoch 30/70: 100%|████████████████████████████████████████████████████████████████████████| 898/898 [00:17<00:00, 51.57batch/s, accuracy=53.7, loss=0.0374]\n",
      "Validation Round 6: 100%|████████████████████████████████████████████████████████████████| 113/113 [00:00<00:00, 250.15batch/s, accuracy=57.9, loss=0.0359]\n"
     ]
    },
    {
     "name": "stdout",
     "output_type": "stream",
     "text": [
      "Epoch 30 : Train Accuracy = 53.75%, Loss = 1072.5199\n"
     ]
    },
    {
     "name": "stderr",
     "output_type": "stream",
     "text": [
      "Epoch 31/70: 100%|█████████████████████████████████████████████████████████████████████████| 898/898 [00:17<00:00, 51.63batch/s, accuracy=54.2, loss=0.037]\n"
     ]
    },
    {
     "name": "stdout",
     "output_type": "stream",
     "text": [
      "Epoch 31 : Train Accuracy = 54.19%, Loss = 1061.2332\n"
     ]
    },
    {
     "name": "stderr",
     "output_type": "stream",
     "text": [
      "Epoch 32/70: 100%|█████████████████████████████████████████████████████████████████████████| 898/898 [00:17<00:00, 51.08batch/s, accuracy=54.3, loss=0.037]\n"
     ]
    },
    {
     "name": "stdout",
     "output_type": "stream",
     "text": [
      "Epoch 32 : Train Accuracy = 54.33%, Loss = 1061.0470\n"
     ]
    },
    {
     "name": "stderr",
     "output_type": "stream",
     "text": [
      "Epoch 33/70: 100%|████████████████████████████████████████████████████████████████████████| 898/898 [00:17<00:00, 50.56batch/s, accuracy=54.7, loss=0.0365]\n"
     ]
    },
    {
     "name": "stdout",
     "output_type": "stream",
     "text": [
      "Epoch 33 : Train Accuracy = 54.67%, Loss = 1047.2237\n"
     ]
    },
    {
     "name": "stderr",
     "output_type": "stream",
     "text": [
      "Epoch 34/70: 100%|████████████████████████████████████████████████████████████████████████| 898/898 [00:17<00:00, 50.95batch/s, accuracy=55.8, loss=0.0361]\n"
     ]
    },
    {
     "name": "stdout",
     "output_type": "stream",
     "text": [
      "Epoch 34 : Train Accuracy = 55.75%, Loss = 1036.7347\n"
     ]
    },
    {
     "name": "stderr",
     "output_type": "stream",
     "text": [
      "Epoch 35/70: 100%|████████████████████████████████████████████████████████████████████████| 898/898 [00:17<00:00, 52.33batch/s, accuracy=56.3, loss=0.0357]\n",
      "Validation Round 7: 100%|████████████████████████████████████████████████████████████████| 113/113 [00:00<00:00, 256.68batch/s, accuracy=58.4, loss=0.0351]\n"
     ]
    },
    {
     "name": "stdout",
     "output_type": "stream",
     "text": [
      "Epoch 35 : Train Accuracy = 56.30%, Loss = 1023.4924\n"
     ]
    },
    {
     "name": "stderr",
     "output_type": "stream",
     "text": [
      "Epoch 36/70: 100%|████████████████████████████████████████████████████████████████████████| 898/898 [00:17<00:00, 51.26batch/s, accuracy=57.1, loss=0.0352]\n"
     ]
    },
    {
     "name": "stdout",
     "output_type": "stream",
     "text": [
      "Epoch 36 : Train Accuracy = 57.11%, Loss = 1011.9419\n"
     ]
    },
    {
     "name": "stderr",
     "output_type": "stream",
     "text": [
      "Epoch 37/70: 100%|████████████████████████████████████████████████████████████████████████| 898/898 [00:16<00:00, 52.89batch/s, accuracy=57.3, loss=0.0348]\n"
     ]
    },
    {
     "name": "stdout",
     "output_type": "stream",
     "text": [
      "Epoch 37 : Train Accuracy = 57.30%, Loss = 998.8693\n"
     ]
    },
    {
     "name": "stderr",
     "output_type": "stream",
     "text": [
      "Epoch 38/70: 100%|████████████████████████████████████████████████████████████████████████| 898/898 [00:17<00:00, 52.44batch/s, accuracy=58.1, loss=0.0346]\n"
     ]
    },
    {
     "name": "stdout",
     "output_type": "stream",
     "text": [
      "Epoch 38 : Train Accuracy = 58.05%, Loss = 992.7271\n"
     ]
    },
    {
     "name": "stderr",
     "output_type": "stream",
     "text": [
      "Epoch 39/70: 100%|████████████████████████████████████████████████████████████████████████| 898/898 [00:17<00:00, 52.66batch/s, accuracy=58.7, loss=0.0339]\n"
     ]
    },
    {
     "name": "stdout",
     "output_type": "stream",
     "text": [
      "Epoch 39 : Train Accuracy = 58.70%, Loss = 973.9575\n"
     ]
    },
    {
     "name": "stderr",
     "output_type": "stream",
     "text": [
      "Epoch 40/70: 100%|█████████████████████████████████████████████████████████████████████████| 898/898 [00:15<00:00, 58.73batch/s, accuracy=58.9, loss=0.034]\n",
      "Validation Round 8: 100%|████████████████████████████████████████████████████████████████| 113/113 [00:00<00:00, 291.64batch/s, accuracy=58.5, loss=0.0356]\n"
     ]
    },
    {
     "name": "stdout",
     "output_type": "stream",
     "text": [
      "Epoch 40 : Train Accuracy = 58.92%, Loss = 976.1340\n"
     ]
    },
    {
     "name": "stderr",
     "output_type": "stream",
     "text": [
      "Epoch 41/70: 100%|████████████████████████████████████████████████████████████████████████| 898/898 [00:09<00:00, 90.74batch/s, accuracy=59.4, loss=0.0337]\n"
     ]
    },
    {
     "name": "stdout",
     "output_type": "stream",
     "text": [
      "Epoch 41 : Train Accuracy = 59.42%, Loss = 967.7633\n"
     ]
    },
    {
     "name": "stderr",
     "output_type": "stream",
     "text": [
      "Epoch 42/70: 100%|████████████████████████████████████████████████████████████████████████| 898/898 [00:10<00:00, 88.70batch/s, accuracy=59.1, loss=0.0335]\n"
     ]
    },
    {
     "name": "stdout",
     "output_type": "stream",
     "text": [
      "Epoch 42 : Train Accuracy = 59.11%, Loss = 962.9855\n"
     ]
    },
    {
     "name": "stderr",
     "output_type": "stream",
     "text": [
      "Epoch 43/70: 100%|████████████████████████████████████████████████████████████████████████| 898/898 [00:10<00:00, 88.02batch/s, accuracy=59.4, loss=0.0333]\n"
     ]
    },
    {
     "name": "stdout",
     "output_type": "stream",
     "text": [
      "Epoch 43 : Train Accuracy = 59.35%, Loss = 955.6543\n"
     ]
    },
    {
     "name": "stderr",
     "output_type": "stream",
     "text": [
      "Epoch 44/70: 100%|█████████████████████████████████████████████████████████████████████████| 898/898 [00:10<00:00, 87.46batch/s, accuracy=59.4, loss=0.033]\n"
     ]
    },
    {
     "name": "stdout",
     "output_type": "stream",
     "text": [
      "Epoch 44 : Train Accuracy = 59.35%, Loss = 948.1808\n"
     ]
    },
    {
     "name": "stderr",
     "output_type": "stream",
     "text": [
      "Epoch 45/70: 100%|████████████████████████████████████████████████████████████████████████| 898/898 [00:09<00:00, 92.78batch/s, accuracy=59.9, loss=0.0329]\n",
      "Validation Round 9: 100%|███████████████████████████████████████████████████████████████████| 113/113 [00:00<00:00, 272.68batch/s, accuracy=59, loss=0.035]\n"
     ]
    },
    {
     "name": "stdout",
     "output_type": "stream",
     "text": [
      "Epoch 45 : Train Accuracy = 59.90%, Loss = 945.8358\n"
     ]
    },
    {
     "name": "stderr",
     "output_type": "stream",
     "text": [
      "Epoch 46/70: 100%|████████████████████████████████████████████████████████████████████████| 898/898 [00:09<00:00, 90.10batch/s, accuracy=60.4, loss=0.0326]\n"
     ]
    },
    {
     "name": "stdout",
     "output_type": "stream",
     "text": [
      "Epoch 46 : Train Accuracy = 60.43%, Loss = 934.5137\n"
     ]
    },
    {
     "name": "stderr",
     "output_type": "stream",
     "text": [
      "Epoch 47/70: 100%|████████████████████████████████████████████████████████████████████████| 898/898 [00:09<00:00, 92.20batch/s, accuracy=60.5, loss=0.0325]\n"
     ]
    },
    {
     "name": "stdout",
     "output_type": "stream",
     "text": [
      "Epoch 47 : Train Accuracy = 60.51%, Loss = 931.7864\n"
     ]
    },
    {
     "name": "stderr",
     "output_type": "stream",
     "text": [
      "Epoch 48/70: 100%|████████████████████████████████████████████████████████████████████████| 898/898 [00:09<00:00, 91.93batch/s, accuracy=60.8, loss=0.0323]\n"
     ]
    },
    {
     "name": "stdout",
     "output_type": "stream",
     "text": [
      "Epoch 48 : Train Accuracy = 60.79%, Loss = 926.1928\n"
     ]
    },
    {
     "name": "stderr",
     "output_type": "stream",
     "text": [
      "Epoch 49/70: 100%|██████████████████████████████████████████████████████████████████████████| 898/898 [00:09<00:00, 91.78batch/s, accuracy=61, loss=0.0319]\n"
     ]
    },
    {
     "name": "stdout",
     "output_type": "stream",
     "text": [
      "Epoch 49 : Train Accuracy = 60.97%, Loss = 914.9766\n"
     ]
    },
    {
     "name": "stderr",
     "output_type": "stream",
     "text": [
      "Epoch 50/70: 100%|████████████████████████████████████████████████████████████████████████| 898/898 [00:09<00:00, 91.96batch/s, accuracy=61.7, loss=0.0317]\n",
      "Validation Round 10: 100%|███████████████████████████████████████████████████████████████| 113/113 [00:00<00:00, 293.66batch/s, accuracy=59.3, loss=0.0344]\n"
     ]
    },
    {
     "name": "stdout",
     "output_type": "stream",
     "text": [
      "Epoch 50 : Train Accuracy = 61.66%, Loss = 909.2126\n"
     ]
    },
    {
     "name": "stderr",
     "output_type": "stream",
     "text": [
      "Epoch 51/70: 100%|████████████████████████████████████████████████████████████████████████| 898/898 [00:09<00:00, 91.17batch/s, accuracy=61.8, loss=0.0316]\n"
     ]
    },
    {
     "name": "stdout",
     "output_type": "stream",
     "text": [
      "Epoch 51 : Train Accuracy = 61.85%, Loss = 906.6077\n"
     ]
    },
    {
     "name": "stderr",
     "output_type": "stream",
     "text": [
      "Epoch 52/70: 100%|████████████████████████████████████████████████████████████████████████| 898/898 [00:09<00:00, 91.04batch/s, accuracy=61.7, loss=0.0314]\n"
     ]
    },
    {
     "name": "stdout",
     "output_type": "stream",
     "text": [
      "Epoch 52 : Train Accuracy = 61.67%, Loss = 902.1029\n"
     ]
    },
    {
     "name": "stderr",
     "output_type": "stream",
     "text": [
      "Epoch 53/70: 100%|████████████████████████████████████████████████████████████████████████| 898/898 [00:09<00:00, 90.97batch/s, accuracy=62.5, loss=0.0312]\n"
     ]
    },
    {
     "name": "stdout",
     "output_type": "stream",
     "text": [
      "Epoch 53 : Train Accuracy = 62.45%, Loss = 895.3692\n"
     ]
    },
    {
     "name": "stderr",
     "output_type": "stream",
     "text": [
      "Epoch 54/70: 100%|████████████████████████████████████████████████████████████████████████| 898/898 [00:09<00:00, 90.66batch/s, accuracy=62.4, loss=0.0311]\n"
     ]
    },
    {
     "name": "stdout",
     "output_type": "stream",
     "text": [
      "Epoch 54 : Train Accuracy = 62.37%, Loss = 893.7497\n"
     ]
    },
    {
     "name": "stderr",
     "output_type": "stream",
     "text": [
      "Epoch 55/70: 100%|████████████████████████████████████████████████████████████████████████| 898/898 [00:09<00:00, 91.52batch/s, accuracy=62.6, loss=0.0308]\n",
      "Validation Round 11: 100%|███████████████████████████████████████████████████████████████| 113/113 [00:00<00:00, 290.76batch/s, accuracy=60.2, loss=0.0346]\n"
     ]
    },
    {
     "name": "stdout",
     "output_type": "stream",
     "text": [
      "Epoch 55 : Train Accuracy = 62.60%, Loss = 885.4971\n"
     ]
    },
    {
     "name": "stderr",
     "output_type": "stream",
     "text": [
      "Epoch 56/70: 100%|████████████████████████████████████████████████████████████████████████| 898/898 [00:09<00:00, 91.90batch/s, accuracy=62.4, loss=0.0307]\n"
     ]
    },
    {
     "name": "stdout",
     "output_type": "stream",
     "text": [
      "Epoch 56 : Train Accuracy = 62.44%, Loss = 881.9707\n"
     ]
    },
    {
     "name": "stderr",
     "output_type": "stream",
     "text": [
      "Epoch 57/70: 100%|████████████████████████████████████████████████████████████████████████| 898/898 [00:09<00:00, 90.84batch/s, accuracy=62.6, loss=0.0307]\n"
     ]
    },
    {
     "name": "stdout",
     "output_type": "stream",
     "text": [
      "Epoch 57 : Train Accuracy = 62.64%, Loss = 879.9620\n"
     ]
    },
    {
     "name": "stderr",
     "output_type": "stream",
     "text": [
      "Epoch 58/70: 100%|████████████████████████████████████████████████████████████████████████| 898/898 [00:09<00:00, 89.80batch/s, accuracy=63.4, loss=0.0304]\n"
     ]
    },
    {
     "name": "stdout",
     "output_type": "stream",
     "text": [
      "Epoch 58 : Train Accuracy = 63.38%, Loss = 872.3986\n"
     ]
    },
    {
     "name": "stderr",
     "output_type": "stream",
     "text": [
      "Epoch 59/70: 100%|████████████████████████████████████████████████████████████████████████| 898/898 [00:09<00:00, 90.93batch/s, accuracy=63.2, loss=0.0302]\n"
     ]
    },
    {
     "name": "stdout",
     "output_type": "stream",
     "text": [
      "Epoch 59 : Train Accuracy = 63.19%, Loss = 867.8040\n"
     ]
    },
    {
     "name": "stderr",
     "output_type": "stream",
     "text": [
      "Epoch 60/70: 100%|████████████████████████████████████████████████████████████████████████| 898/898 [00:09<00:00, 91.34batch/s, accuracy=62.9, loss=0.0304]\n",
      "Validation Round 12: 100%|███████████████████████████████████████████████████████████████| 113/113 [00:00<00:00, 288.40batch/s, accuracy=60.4, loss=0.0355]\n"
     ]
    },
    {
     "name": "stdout",
     "output_type": "stream",
     "text": [
      "Epoch 60 : Train Accuracy = 62.91%, Loss = 872.5002\n"
     ]
    },
    {
     "name": "stderr",
     "output_type": "stream",
     "text": [
      "Epoch 61/70: 100%|████████████████████████████████████████████████████████████████████████| 898/898 [00:09<00:00, 90.46batch/s, accuracy=62.8, loss=0.0302]\n"
     ]
    },
    {
     "name": "stdout",
     "output_type": "stream",
     "text": [
      "Epoch 61 : Train Accuracy = 62.84%, Loss = 866.4650\n"
     ]
    },
    {
     "name": "stderr",
     "output_type": "stream",
     "text": [
      "Epoch 62/70: 100%|████████████████████████████████████████████████████████████████████████| 898/898 [00:09<00:00, 90.88batch/s, accuracy=63.3, loss=0.0301]\n"
     ]
    },
    {
     "name": "stdout",
     "output_type": "stream",
     "text": [
      "Epoch 62 : Train Accuracy = 63.32%, Loss = 863.3214\n"
     ]
    },
    {
     "name": "stderr",
     "output_type": "stream",
     "text": [
      "Epoch 63/70: 100%|████████████████████████████████████████████████████████████████████████| 898/898 [00:09<00:00, 90.82batch/s, accuracy=63.5, loss=0.0298]\n"
     ]
    },
    {
     "name": "stdout",
     "output_type": "stream",
     "text": [
      "Epoch 63 : Train Accuracy = 63.47%, Loss = 856.9062\n"
     ]
    },
    {
     "name": "stderr",
     "output_type": "stream",
     "text": [
      "Epoch 64/70: 100%|████████████████████████████████████████████████████████████████████████| 898/898 [00:09<00:00, 90.88batch/s, accuracy=63.6, loss=0.0298]\n"
     ]
    },
    {
     "name": "stdout",
     "output_type": "stream",
     "text": [
      "Epoch 64 : Train Accuracy = 63.62%, Loss = 856.3736\n"
     ]
    },
    {
     "name": "stderr",
     "output_type": "stream",
     "text": [
      "Epoch 65/70: 100%|██████████████████████████████████████████████████████████████████████████| 898/898 [00:09<00:00, 90.81batch/s, accuracy=64, loss=0.0296]\n",
      "Validation Round 13: 100%|███████████████████████████████████████████████████████████████| 113/113 [00:00<00:00, 282.41batch/s, accuracy=60.4, loss=0.0357]\n"
     ]
    },
    {
     "name": "stdout",
     "output_type": "stream",
     "text": [
      "Epoch 65 : Train Accuracy = 63.98%, Loss = 850.9649\n"
     ]
    },
    {
     "name": "stderr",
     "output_type": "stream",
     "text": [
      "Epoch 66/70: 100%|████████████████████████████████████████████████████████████████████████| 898/898 [00:09<00:00, 91.06batch/s, accuracy=63.7, loss=0.0296]\n"
     ]
    },
    {
     "name": "stdout",
     "output_type": "stream",
     "text": [
      "Epoch 66 : Train Accuracy = 63.65%, Loss = 849.6016\n"
     ]
    },
    {
     "name": "stderr",
     "output_type": "stream",
     "text": [
      "Epoch 67/70: 100%|██████████████████████████████████████████████████████████████████████████| 898/898 [00:09<00:00, 90.30batch/s, accuracy=64, loss=0.0295]\n"
     ]
    },
    {
     "name": "stdout",
     "output_type": "stream",
     "text": [
      "Epoch 67 : Train Accuracy = 63.96%, Loss = 848.1921\n"
     ]
    },
    {
     "name": "stderr",
     "output_type": "stream",
     "text": [
      "Epoch 68/70: 100%|████████████████████████████████████████████████████████████████████████| 898/898 [00:09<00:00, 91.03batch/s, accuracy=64.5, loss=0.0291]\n"
     ]
    },
    {
     "name": "stdout",
     "output_type": "stream",
     "text": [
      "Epoch 68 : Train Accuracy = 64.54%, Loss = 835.8840\n"
     ]
    },
    {
     "name": "stderr",
     "output_type": "stream",
     "text": [
      "Epoch 69/70: 100%|█████████████████████████████████████████████████████████████████████████| 898/898 [00:09<00:00, 90.97batch/s, accuracy=64.4, loss=0.029]\n"
     ]
    },
    {
     "name": "stdout",
     "output_type": "stream",
     "text": [
      "Epoch 69 : Train Accuracy = 64.42%, Loss = 833.4870\n"
     ]
    },
    {
     "name": "stderr",
     "output_type": "stream",
     "text": [
      "Epoch 70/70: 100%|█████████████████████████████████████████████████████████████████████████| 898/898 [00:09<00:00, 90.78batch/s, accuracy=64.9, loss=0.029]\n",
      "Validation Round 14: 100%|███████████████████████████████████████████████████████████████| 113/113 [00:00<00:00, 278.36batch/s, accuracy=60.7, loss=0.0364]"
     ]
    },
    {
     "name": "stdout",
     "output_type": "stream",
     "text": [
      "Epoch 70 : Train Accuracy = 64.87%, Loss = 831.1558\n"
     ]
    },
    {
     "name": "stderr",
     "output_type": "stream",
     "text": [
      "\n"
     ]
    }
   ],
   "source": [
    "model, cnn_trained, train_accuracies = train_model(\n",
    "    model=cnn,\n",
    "    train_loader=train_loader,\n",
    "    criterion=criterion,\n",
    "    optimizer=optimizer,\n",
    "    epochs=70,\n",
    "    val_loader=val_loader\n",
    ")"
   ]
  },
  {
   "cell_type": "code",
   "execution_count": 16,
   "id": "b9ce1b3f-8cbc-4ed6-a2e4-6aab2e36aa67",
   "metadata": {},
   "outputs": [],
   "source": [
    "EMOTION_LABELS = {\n",
    "    0: 'Angry',\n",
    "    1: 'Disgust',\n",
    "    2: 'Fear',\n",
    "    3: 'Happy',\n",
    "    4: 'Sad',\n",
    "    5: 'Surprise',\n",
    "    6: 'Neutral'\n",
    "}"
   ]
  },
  {
   "cell_type": "code",
   "execution_count": 18,
   "id": "5c11c9dc-c48d-4734-afdf-228e943cab18",
   "metadata": {},
   "outputs": [
    {
     "name": "stderr",
     "output_type": "stream",
     "text": [
      "2025-05-17 10:02:31.255 Python[92160:7045226] _TIPropertyValueIsValid called with 16 on nil context!\n",
      "2025-05-17 10:02:31.255 Python[92160:7045226] imkxpc_getApplicationProperty:reply: called with incorrect property value 16, bailing.\n",
      "2025-05-17 10:02:31.255 Python[92160:7045226] Text input context does not respond to _valueForTIProperty:\n",
      "2025-05-17 10:02:32.239 Python[92160:7045226] _TIPropertyValueIsValid called with 16 on nil context!\n",
      "2025-05-17 10:02:32.239 Python[92160:7045226] imkxpc_getApplicationProperty:reply: called with incorrect property value 16, bailing.\n",
      "2025-05-17 10:02:32.239 Python[92160:7045226] Text input context does not respond to _valueForTIProperty:\n"
     ]
    }
   ],
   "source": [
    "device = torch.device(\"mps\" if torch.backends.mps.is_available() else \"cpu\")\n",
    "model = model.to(device)\n",
    "\n",
    "EMOTION_LABELS = ['Angry', 'Disgust', 'Fear', 'Happy', 'Sad', 'Surprise', 'Neutral']\n",
    "\n",
    "face_cascade = cv2.CascadeClassifier(cv2.data.haarcascades + 'haarcascade_frontalface_default.xml')\n",
    "\n",
    "cap = cv2.VideoCapture(0)\n",
    "if not cap.isOpened():\n",
    "    print(\"Webcam could not be opened.\")\n",
    "    exit()\n",
    "\n",
    "try:\n",
    "    while True:\n",
    "        start_time = cv2.getTickCount()\n",
    "\n",
    "        ret, frame = cap.read()\n",
    "        if not ret:\n",
    "            print(\"Could not read frame.\")\n",
    "            continue\n",
    "\n",
    "        gray = cv2.cvtColor(frame, cv2.COLOR_BGR2GRAY)\n",
    "        faces = face_cascade.detectMultiScale(gray, scaleFactor=1.1, minNeighbors=5, minSize=(30, 30))\n",
    "\n",
    "        for (x, y, w, h) in faces:\n",
    "            face = gray[y:y+h, x:x+w]\n",
    "            face_resized = cv2.resize(face, (48, 48))\n",
    "            face_normalized = face_resized.astype('float32') / 255.0\n",
    "            face_tensor = torch.tensor(face_normalized).unsqueeze(0).unsqueeze(0).float().to(device)\n",
    "            assert face_tensor.size() == torch.Size([1, 1, 48, 48])\n",
    "\n",
    "            model.eval()\n",
    "            with torch.no_grad():\n",
    "                outputs = model(face_tensor)\n",
    "                prob, predicted = torch.max(outputs, 1)\n",
    "                emotion = EMOTION_LABELS[predicted.item()]\n",
    "\n",
    "            cv2.rectangle(frame, (x, y), (x + w, y + h), (0, 255, 0), 2)\n",
    "            cv2.putText(frame, f\"{emotion} : {prob.item()}\", (x, y - 10), cv2.FONT_HERSHEY_SIMPLEX, \n",
    "                        0.6, (0, 255, 0), 2, cv2.LINE_AA)\n",
    "\n",
    "        fps = cv2.getTickFrequency() / (cv2.getTickCount() - start_time)\n",
    "        cv2.putText(frame, f\"FPS: {fps:.1f}\", (10, 30), cv2.FONT_HERSHEY_SIMPLEX,\n",
    "                    0.7, (255, 255, 255), 2, cv2.LINE_AA)\n",
    "\n",
    "        cv2.imshow(\"Emotion Detection\", frame)\n",
    "\n",
    "        if cv2.waitKey(1) & 0xFF == ord('q'):\n",
    "            break\n",
    "\n",
    "except Exception as e:\n",
    "    print(f\"An error occurred: {e}\")\n",
    "\n",
    "finally:\n",
    "    cap.release()\n",
    "    cv2.destroyAllWindows()\n"
   ]
  },
  {
   "cell_type": "code",
   "execution_count": 3,
   "id": "e3f14dbc-b82c-4738-9a2c-546529888590",
   "metadata": {},
   "outputs": [
    {
     "ename": "NameError",
     "evalue": "name 'model' is not defined",
     "output_type": "error",
     "traceback": [
      "\u001b[0;31m---------------------------------------------------------------------------\u001b[0m",
      "\u001b[0;31mNameError\u001b[0m                                 Traceback (most recent call last)",
      "Cell \u001b[0;32mIn[3], line 1\u001b[0m\n\u001b[0;32m----> 1\u001b[0m \u001b[43mmodel\u001b[49m\n",
      "\u001b[0;31mNameError\u001b[0m: name 'model' is not defined"
     ]
    }
   ],
   "source": [
    "model"
   ]
  },
  {
   "cell_type": "code",
   "execution_count": null,
   "id": "0fb4765d-1d8f-4942-a9ec-5f6bf8663f2b",
   "metadata": {},
   "outputs": [],
   "source": []
  }
 ],
 "metadata": {
  "kernelspec": {
   "display_name": "Python 3 (ipykernel)",
   "language": "python",
   "name": "python3"
  },
  "language_info": {
   "codemirror_mode": {
    "name": "ipython",
    "version": 3
   },
   "file_extension": ".py",
   "mimetype": "text/x-python",
   "name": "python",
   "nbconvert_exporter": "python",
   "pygments_lexer": "ipython3",
   "version": "3.9.6"
  }
 },
 "nbformat": 4,
 "nbformat_minor": 5
}
