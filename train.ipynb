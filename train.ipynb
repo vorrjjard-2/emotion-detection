{
 "cells": [
  {
   "cell_type": "code",
   "execution_count": 10,
   "id": "33819076-f1a6-43b2-913f-4f20fb583d70",
   "metadata": {},
   "outputs": [],
   "source": [
    "import os\n",
    "import sys\n",
    "\n",
    "from models.model import FER2013CNN"
   ]
  },
  {
   "cell_type": "code",
   "execution_count": 11,
   "id": "2d0b2ff8-92e8-4b28-9e3f-faa37158a15d",
   "metadata": {},
   "outputs": [],
   "source": [
    "#main imports\n",
    "\n",
    "import numpy as np\n",
    "import pandas as pd\n",
    "\n",
    "import torch\n",
    "import torch.nn as nn\n",
    "import torch.optim as optim\n",
    "import torch.nn.functional as F\n",
    "from torch.utils.data import DataLoader, Dataset\n",
    "from torchvision import datasets, transforms\n",
    "from torchsummary import summary\n",
    "\n",
    "from tqdm import tqdm\n",
    "import cv2"
   ]
  },
  {
   "cell_type": "code",
   "execution_count": 12,
   "id": "10fed7cc-77aa-4713-b25d-faf7f9fdb973",
   "metadata": {},
   "outputs": [],
   "source": [
    "from data.dataloader import load_dataloader"
   ]
  },
  {
   "cell_type": "code",
   "execution_count": 50,
   "id": "e5f9ada3-8774-4136-98ef-830bcef585e0",
   "metadata": {},
   "outputs": [],
   "source": [
    "from utils.utils import line_graph"
   ]
  },
  {
   "cell_type": "code",
   "execution_count": 14,
   "id": "539849b4-9002-4ed4-8804-ee42484a6ecd",
   "metadata": {},
   "outputs": [
    {
     "name": "stdout",
     "output_type": "stream",
     "text": [
      "True\n"
     ]
    }
   ],
   "source": [
    "print(torch.backends.mps.is_available())"
   ]
  },
  {
   "cell_type": "code",
   "execution_count": 53,
   "id": "dff0c980-2e8d-4ae6-aef1-8c6b94483b7b",
   "metadata": {},
   "outputs": [],
   "source": [
    "device = torch.device(\"mps\" if torch.backends.mps.is_available() else \"cpu\")"
   ]
  },
  {
   "cell_type": "code",
   "execution_count": 40,
   "id": "35229195-9e2a-4078-b589-faef3264eed6",
   "metadata": {},
   "outputs": [],
   "source": [
    "def train_model(model, train_loader, criterion, optimizer, epochs, val_loader=None):\n",
    "\n",
    "    device = torch.device(\"mps\" if torch.backends.mps.is_available() else \"cpu\")\n",
    "    model = model.to(device)\n",
    "    \n",
    "    train_accuracies = []\n",
    "    val_accuracies = []\n",
    "\n",
    "    train_losses = []\n",
    "    val_losses = []\n",
    "    \n",
    "    for epoch in range(1, epochs + 1):\n",
    "        model.train()  \n",
    "        epoch_loss = 0.0\n",
    "        \n",
    "        correct, total = 0, 0\n",
    "        \n",
    "        with tqdm(train_loader, unit=\"batch\", desc=f\"Epoch {epoch}/{epochs}\") as pbar:\n",
    "            for images, labels in pbar:\n",
    "\n",
    "                images = images.to(device)\n",
    "                labels = labels.to(device)\n",
    "                \n",
    "                optimizer.zero_grad()  \n",
    "                outputs = model(images)  \n",
    "                loss = criterion(outputs, labels)\n",
    "                loss.backward()  \n",
    "                optimizer.step()  \n",
    "\n",
    "                epoch_loss += loss.item()\n",
    "                _, prediction = torch.max(outputs, 1)\n",
    "                correct += (prediction == labels).sum().item()\n",
    "                total += labels.size(0)\n",
    "\n",
    "                pbar.set_postfix(loss=epoch_loss / total, accuracy=100 * correct / total)\n",
    "\n",
    "        if epoch % 5 == 0 and val_loader:\n",
    "            model.eval()\n",
    "            val_loss = 0.0\n",
    "            val_correct = 0.0\n",
    "            val_total = 0.0\n",
    "\n",
    "            with torch.no_grad():     \n",
    "                 with tqdm(val_loader, unit=\"batch\", desc=f\"Validation Round {epoch // 5}\") as vpbar:\n",
    "                    for images, labels in vpbar:\n",
    "                        images = images.to(device)\n",
    "                        labels = labels.to(device)\n",
    "                        outputs = model(images)\n",
    "                        loss = criterion(outputs, labels)\n",
    "    \n",
    "                        val_loss += loss.item()\n",
    "                        _, prediction = torch.max(outputs, 1)\n",
    "                        val_correct += (prediction == labels).sum().item()\n",
    "                        val_total += labels.size(0)\n",
    "\n",
    "                        val_acc = 100 * val_correct / val_total\n",
    "                        vpbar.set_postfix(loss=val_loss / val_total, accuracy=val_acc)\n",
    "            val_losses.append(val_loss)\n",
    "            val_accuracies.append(val_acc)\n",
    "        train_acc = 100 * correct / total\n",
    "        train_losses.append(epoch_loss)\n",
    "        train_accuracies.append(train_acc)\n",
    "        print(f\"Epoch {epoch} : Train Accuracy = {train_acc:.2f}%, Loss = {epoch_loss:.4f}\")\n",
    "        print(\"-\"*50)\n",
    "\n",
    "    return model, train_accuracies, val_accuracies, train_losses, val_losses"
   ]
  },
  {
   "cell_type": "code",
   "execution_count": 41,
   "id": "982a8dc7-1ba5-4f7e-947c-8485a4d9299b",
   "metadata": {},
   "outputs": [],
   "source": [
    "cnn = FER2013CNN(num_classes=7)"
   ]
  },
  {
   "cell_type": "code",
   "execution_count": 42,
   "id": "f7d7102e-7c50-4bf2-9629-7f916372d3a2",
   "metadata": {},
   "outputs": [],
   "source": [
    "criterion = nn.CrossEntropyLoss()"
   ]
  },
  {
   "cell_type": "code",
   "execution_count": 43,
   "id": "94ae754a-7a68-4f8c-a73a-5f5bad038260",
   "metadata": {},
   "outputs": [],
   "source": [
    "optimizer = optim.Adam(cnn.parameters(), lr=1e-3)"
   ]
  },
  {
   "cell_type": "code",
   "execution_count": 44,
   "id": "f057ea9e-d6a4-4257-801a-73307e783c27",
   "metadata": {},
   "outputs": [],
   "source": [
    "train_transform = transforms.Compose([\n",
    "    transforms.ToTensor(),  \n",
    "    transforms.RandomHorizontalFlip(),  \n",
    "    transforms.RandomRotation(10),\n",
    "    transforms.Normalize(mean=[0.5], std=[0.5])  \n",
    "])\n",
    "\n",
    "val_transform = transforms.Compose([\n",
    "    transforms.ToTensor(),\n",
    "    transforms.Normalize(mean=[0.5], std=[0.5])\n",
    "])"
   ]
  },
  {
   "cell_type": "code",
   "execution_count": 45,
   "id": "ab77dc7f-4cb8-407c-84ed-71ce0c70761f",
   "metadata": {},
   "outputs": [],
   "source": [
    "train_loader = load_dataloader(\"data/dataset/fer2013.csv\", 'train', 32, transform=train_transform)\n",
    "val_loader = load_dataloader(\"data/dataset/fer2013.csv\", 'val', 32, transform=val_transform)\n",
    "test_loader = load_dataloader(\"data/dataset/fer2013.csv\", 'test', 32, transform=val_transform)"
   ]
  },
  {
   "cell_type": "code",
   "execution_count": 46,
   "id": "58b33529-d9fa-4adc-b7ad-436dc4f9cd03",
   "metadata": {},
   "outputs": [
    {
     "name": "stdout",
     "output_type": "stream",
     "text": [
      "test passed!\n",
      "test passed!\n"
     ]
    }
   ],
   "source": [
    "for images, labels in train_loader:\n",
    "    assert images.size() == torch.Size([32, 1, 48, 48])\n",
    "    assert labels.dtype == torch.int64\n",
    "    print(\"test passed!\")\n",
    "    break\n",
    "\n",
    "for images, labels in val_loader:\n",
    "    assert images.size() == torch.Size([32, 1, 48, 48])\n",
    "    assert labels.dtype == torch.int64\n",
    "    print(\"test passed!\")\n",
    "    break"
   ]
  },
  {
   "cell_type": "code",
   "execution_count": 47,
   "id": "3d886a71-a3be-4095-a861-f1bf212d8bd0",
   "metadata": {},
   "outputs": [
    {
     "name": "stderr",
     "output_type": "stream",
     "text": [
      "Epoch 1/70: 100%|███████████████████████████████| 898/898 [00:14<00:00, 62.04batch/s, accuracy=28.3, loss=0.0547]\n"
     ]
    },
    {
     "name": "stdout",
     "output_type": "stream",
     "text": [
      "Epoch 1 : Train Accuracy = 28.34%, Loss = 1571.6680\n",
      "--------------------------------------------------\n"
     ]
    },
    {
     "name": "stderr",
     "output_type": "stream",
     "text": [
      "Epoch 2/70: 100%|███████████████████████████████| 898/898 [00:14<00:00, 63.99batch/s, accuracy=36.2, loss=0.0496]\n"
     ]
    },
    {
     "name": "stdout",
     "output_type": "stream",
     "text": [
      "Epoch 2 : Train Accuracy = 36.24%, Loss = 1424.5287\n",
      "--------------------------------------------------\n"
     ]
    },
    {
     "name": "stderr",
     "output_type": "stream",
     "text": [
      "Epoch 3/70: 100%|███████████████████████████████| 898/898 [00:10<00:00, 88.88batch/s, accuracy=39.5, loss=0.0477]\n"
     ]
    },
    {
     "name": "stdout",
     "output_type": "stream",
     "text": [
      "Epoch 3 : Train Accuracy = 39.54%, Loss = 1370.6401\n",
      "--------------------------------------------------\n"
     ]
    },
    {
     "name": "stderr",
     "output_type": "stream",
     "text": [
      "Epoch 4/70: 100%|███████████████████████████████| 898/898 [00:10<00:00, 88.22batch/s, accuracy=40.4, loss=0.0468]\n"
     ]
    },
    {
     "name": "stdout",
     "output_type": "stream",
     "text": [
      "Epoch 4 : Train Accuracy = 40.41%, Loss = 1344.2564\n",
      "--------------------------------------------------\n"
     ]
    },
    {
     "name": "stderr",
     "output_type": "stream",
     "text": [
      "Epoch 5/70: 100%|████████████████████████████████| 898/898 [00:10<00:00, 88.61batch/s, accuracy=41.1, loss=0.046]\n",
      "Validation Round 1: 100%|███████████████████████| 113/113 [00:00<00:00, 282.36batch/s, accuracy=49.5, loss=0.042]\n"
     ]
    },
    {
     "name": "stdout",
     "output_type": "stream",
     "text": [
      "Epoch 5 : Train Accuracy = 41.06%, Loss = 1321.5887\n",
      "--------------------------------------------------\n"
     ]
    },
    {
     "name": "stderr",
     "output_type": "stream",
     "text": [
      "Epoch 6/70: 100%|███████████████████████████████| 898/898 [00:10<00:00, 87.84batch/s, accuracy=42.7, loss=0.0452]\n"
     ]
    },
    {
     "name": "stdout",
     "output_type": "stream",
     "text": [
      "Epoch 6 : Train Accuracy = 42.68%, Loss = 1297.1772\n",
      "--------------------------------------------------\n"
     ]
    },
    {
     "name": "stderr",
     "output_type": "stream",
     "text": [
      "Epoch 7/70: 100%|█████████████████████████████████| 898/898 [00:10<00:00, 89.45batch/s, accuracy=43, loss=0.0448]\n"
     ]
    },
    {
     "name": "stdout",
     "output_type": "stream",
     "text": [
      "Epoch 7 : Train Accuracy = 42.98%, Loss = 1286.2612\n",
      "--------------------------------------------------\n"
     ]
    },
    {
     "name": "stderr",
     "output_type": "stream",
     "text": [
      "Epoch 8/70: 100%|███████████████████████████████| 898/898 [00:10<00:00, 88.86batch/s, accuracy=43.9, loss=0.0445]\n"
     ]
    },
    {
     "name": "stdout",
     "output_type": "stream",
     "text": [
      "Epoch 8 : Train Accuracy = 43.85%, Loss = 1276.4394\n",
      "--------------------------------------------------\n"
     ]
    },
    {
     "name": "stderr",
     "output_type": "stream",
     "text": [
      "Epoch 9/70: 100%|███████████████████████████████| 898/898 [00:09<00:00, 89.92batch/s, accuracy=44.7, loss=0.0439]\n"
     ]
    },
    {
     "name": "stdout",
     "output_type": "stream",
     "text": [
      "Epoch 9 : Train Accuracy = 44.65%, Loss = 1260.1951\n",
      "--------------------------------------------------\n"
     ]
    },
    {
     "name": "stderr",
     "output_type": "stream",
     "text": [
      "Epoch 10/70: 100%|██████████████████████████████| 898/898 [00:09<00:00, 89.94batch/s, accuracy=44.7, loss=0.0437]\n",
      "Validation Round 2: 100%|██████████████████████| 113/113 [00:00<00:00, 299.20batch/s, accuracy=51.8, loss=0.0396]\n"
     ]
    },
    {
     "name": "stdout",
     "output_type": "stream",
     "text": [
      "Epoch 10 : Train Accuracy = 44.69%, Loss = 1254.5706\n",
      "--------------------------------------------------\n"
     ]
    },
    {
     "name": "stderr",
     "output_type": "stream",
     "text": [
      "Epoch 11/70: 100%|██████████████████████████████| 898/898 [00:09<00:00, 90.04batch/s, accuracy=45.5, loss=0.0432]\n"
     ]
    },
    {
     "name": "stdout",
     "output_type": "stream",
     "text": [
      "Epoch 11 : Train Accuracy = 45.53%, Loss = 1241.0676\n",
      "--------------------------------------------------\n"
     ]
    },
    {
     "name": "stderr",
     "output_type": "stream",
     "text": [
      "Epoch 12/70: 100%|██████████████████████████████| 898/898 [00:10<00:00, 88.53batch/s, accuracy=45.8, loss=0.0431]\n"
     ]
    },
    {
     "name": "stdout",
     "output_type": "stream",
     "text": [
      "Epoch 12 : Train Accuracy = 45.84%, Loss = 1236.8700\n",
      "--------------------------------------------------\n"
     ]
    },
    {
     "name": "stderr",
     "output_type": "stream",
     "text": [
      "Epoch 13/70: 100%|██████████████████████████████| 898/898 [00:10<00:00, 89.42batch/s, accuracy=46.3, loss=0.0427]\n"
     ]
    },
    {
     "name": "stdout",
     "output_type": "stream",
     "text": [
      "Epoch 13 : Train Accuracy = 46.29%, Loss = 1226.7383\n",
      "--------------------------------------------------\n"
     ]
    },
    {
     "name": "stderr",
     "output_type": "stream",
     "text": [
      "Epoch 14/70: 100%|██████████████████████████████| 898/898 [00:10<00:00, 89.14batch/s, accuracy=46.5, loss=0.0424]\n"
     ]
    },
    {
     "name": "stdout",
     "output_type": "stream",
     "text": [
      "Epoch 14 : Train Accuracy = 46.50%, Loss = 1217.5874\n",
      "--------------------------------------------------\n"
     ]
    },
    {
     "name": "stderr",
     "output_type": "stream",
     "text": [
      "Epoch 15/70: 100%|██████████████████████████████| 898/898 [00:10<00:00, 88.96batch/s, accuracy=47.1, loss=0.0421]\n",
      "Validation Round 3: 100%|██████████████████████| 113/113 [00:00<00:00, 292.29batch/s, accuracy=54.7, loss=0.0386]\n"
     ]
    },
    {
     "name": "stdout",
     "output_type": "stream",
     "text": [
      "Epoch 15 : Train Accuracy = 47.07%, Loss = 1209.4294\n",
      "--------------------------------------------------\n"
     ]
    },
    {
     "name": "stderr",
     "output_type": "stream",
     "text": [
      "Epoch 16/70: 100%|██████████████████████████████| 898/898 [00:10<00:00, 87.97batch/s, accuracy=47.5, loss=0.0419]\n"
     ]
    },
    {
     "name": "stdout",
     "output_type": "stream",
     "text": [
      "Epoch 16 : Train Accuracy = 47.48%, Loss = 1203.7460\n",
      "--------------------------------------------------\n"
     ]
    },
    {
     "name": "stderr",
     "output_type": "stream",
     "text": [
      "Epoch 17/70: 100%|██████████████████████████████| 898/898 [00:10<00:00, 89.74batch/s, accuracy=47.7, loss=0.0418]\n"
     ]
    },
    {
     "name": "stdout",
     "output_type": "stream",
     "text": [
      "Epoch 17 : Train Accuracy = 47.66%, Loss = 1200.5686\n",
      "--------------------------------------------------\n"
     ]
    },
    {
     "name": "stderr",
     "output_type": "stream",
     "text": [
      "Epoch 18/70: 100%|██████████████████████████████| 898/898 [00:10<00:00, 89.52batch/s, accuracy=47.8, loss=0.0415]\n"
     ]
    },
    {
     "name": "stdout",
     "output_type": "stream",
     "text": [
      "Epoch 18 : Train Accuracy = 47.80%, Loss = 1190.7415\n",
      "--------------------------------------------------\n"
     ]
    },
    {
     "name": "stderr",
     "output_type": "stream",
     "text": [
      "Epoch 19/70: 100%|██████████████████████████████| 898/898 [00:10<00:00, 89.66batch/s, accuracy=48.8, loss=0.0409]\n"
     ]
    },
    {
     "name": "stdout",
     "output_type": "stream",
     "text": [
      "Epoch 19 : Train Accuracy = 48.77%, Loss = 1175.2509\n",
      "--------------------------------------------------\n"
     ]
    },
    {
     "name": "stderr",
     "output_type": "stream",
     "text": [
      "Epoch 20/70: 100%|██████████████████████████████| 898/898 [00:10<00:00, 89.03batch/s, accuracy=49.9, loss=0.0405]\n",
      "Validation Round 4: 100%|██████████████████████| 113/113 [00:00<00:00, 293.27batch/s, accuracy=56.4, loss=0.0371]\n"
     ]
    },
    {
     "name": "stdout",
     "output_type": "stream",
     "text": [
      "Epoch 20 : Train Accuracy = 49.91%, Loss = 1163.3125\n",
      "--------------------------------------------------\n"
     ]
    },
    {
     "name": "stderr",
     "output_type": "stream",
     "text": [
      "Epoch 21/70: 100%|██████████████████████████████| 898/898 [00:10<00:00, 89.79batch/s, accuracy=49.7, loss=0.0403]\n"
     ]
    },
    {
     "name": "stdout",
     "output_type": "stream",
     "text": [
      "Epoch 21 : Train Accuracy = 49.71%, Loss = 1157.2195\n",
      "--------------------------------------------------\n"
     ]
    },
    {
     "name": "stderr",
     "output_type": "stream",
     "text": [
      "Epoch 22/70: 100%|██████████████████████████████| 898/898 [00:10<00:00, 89.47batch/s, accuracy=50.6, loss=0.0397]\n"
     ]
    },
    {
     "name": "stdout",
     "output_type": "stream",
     "text": [
      "Epoch 22 : Train Accuracy = 50.64%, Loss = 1139.9308\n",
      "--------------------------------------------------\n"
     ]
    },
    {
     "name": "stderr",
     "output_type": "stream",
     "text": [
      "Epoch 23/70: 100%|██████████████████████████████| 898/898 [00:10<00:00, 86.32batch/s, accuracy=51.1, loss=0.0393]\n"
     ]
    },
    {
     "name": "stdout",
     "output_type": "stream",
     "text": [
      "Epoch 23 : Train Accuracy = 51.11%, Loss = 1128.4128\n",
      "--------------------------------------------------\n"
     ]
    },
    {
     "name": "stderr",
     "output_type": "stream",
     "text": [
      "Epoch 24/70: 100%|██████████████████████████████| 898/898 [00:09<00:00, 97.11batch/s, accuracy=52.1, loss=0.0388]\n"
     ]
    },
    {
     "name": "stdout",
     "output_type": "stream",
     "text": [
      "Epoch 24 : Train Accuracy = 52.09%, Loss = 1115.2821\n",
      "--------------------------------------------------\n"
     ]
    },
    {
     "name": "stderr",
     "output_type": "stream",
     "text": [
      "Epoch 25/70: 100%|██████████████████████████████| 898/898 [00:09<00:00, 90.55batch/s, accuracy=53.4, loss=0.0382]\n",
      "Validation Round 5: 100%|███████████████████████| 113/113 [00:00<00:00, 277.58batch/s, accuracy=56.4, loss=0.036]\n"
     ]
    },
    {
     "name": "stdout",
     "output_type": "stream",
     "text": [
      "Epoch 25 : Train Accuracy = 53.40%, Loss = 1097.1207\n",
      "--------------------------------------------------\n"
     ]
    },
    {
     "name": "stderr",
     "output_type": "stream",
     "text": [
      "Epoch 26/70: 100%|██████████████████████████████| 898/898 [00:10<00:00, 83.87batch/s, accuracy=53.5, loss=0.0379]\n"
     ]
    },
    {
     "name": "stdout",
     "output_type": "stream",
     "text": [
      "Epoch 26 : Train Accuracy = 53.52%, Loss = 1086.7578\n",
      "--------------------------------------------------\n"
     ]
    },
    {
     "name": "stderr",
     "output_type": "stream",
     "text": [
      "Epoch 27/70: 100%|██████████████████████████████| 898/898 [00:10<00:00, 81.93batch/s, accuracy=53.6, loss=0.0377]\n"
     ]
    },
    {
     "name": "stdout",
     "output_type": "stream",
     "text": [
      "Epoch 27 : Train Accuracy = 53.56%, Loss = 1082.6542\n",
      "--------------------------------------------------\n"
     ]
    },
    {
     "name": "stderr",
     "output_type": "stream",
     "text": [
      "Epoch 28/70: 100%|██████████████████████████████| 898/898 [00:11<00:00, 81.34batch/s, accuracy=54.5, loss=0.0371]\n"
     ]
    },
    {
     "name": "stdout",
     "output_type": "stream",
     "text": [
      "Epoch 28 : Train Accuracy = 54.46%, Loss = 1065.9663\n",
      "--------------------------------------------------\n"
     ]
    },
    {
     "name": "stderr",
     "output_type": "stream",
     "text": [
      "Epoch 29/70: 100%|██████████████████████████████| 898/898 [00:11<00:00, 81.19batch/s, accuracy=54.2, loss=0.0371]\n"
     ]
    },
    {
     "name": "stdout",
     "output_type": "stream",
     "text": [
      "Epoch 29 : Train Accuracy = 54.23%, Loss = 1064.5741\n",
      "--------------------------------------------------\n"
     ]
    },
    {
     "name": "stderr",
     "output_type": "stream",
     "text": [
      "Epoch 30/70: 100%|██████████████████████████████| 898/898 [00:10<00:00, 86.24batch/s, accuracy=54.6, loss=0.0371]\n",
      "Validation Round 6: 100%|██████████████████████| 113/113 [00:00<00:00, 245.15batch/s, accuracy=56.8, loss=0.0356]\n"
     ]
    },
    {
     "name": "stdout",
     "output_type": "stream",
     "text": [
      "Epoch 30 : Train Accuracy = 54.58%, Loss = 1063.8370\n",
      "--------------------------------------------------\n"
     ]
    },
    {
     "name": "stderr",
     "output_type": "stream",
     "text": [
      "Epoch 31/70: 100%|██████████████████████████████| 898/898 [00:10<00:00, 81.80batch/s, accuracy=54.8, loss=0.0367]\n"
     ]
    },
    {
     "name": "stdout",
     "output_type": "stream",
     "text": [
      "Epoch 31 : Train Accuracy = 54.79%, Loss = 1054.9249\n",
      "--------------------------------------------------\n"
     ]
    },
    {
     "name": "stderr",
     "output_type": "stream",
     "text": [
      "Epoch 32/70: 100%|██████████████████████████████| 898/898 [00:10<00:00, 85.05batch/s, accuracy=55.7, loss=0.0362]\n"
     ]
    },
    {
     "name": "stdout",
     "output_type": "stream",
     "text": [
      "Epoch 32 : Train Accuracy = 55.72%, Loss = 1038.2093\n",
      "--------------------------------------------------\n"
     ]
    },
    {
     "name": "stderr",
     "output_type": "stream",
     "text": [
      "Epoch 33/70: 100%|██████████████████████████████| 898/898 [00:10<00:00, 85.71batch/s, accuracy=55.9, loss=0.0361]\n"
     ]
    },
    {
     "name": "stdout",
     "output_type": "stream",
     "text": [
      "Epoch 33 : Train Accuracy = 55.86%, Loss = 1035.3569\n",
      "--------------------------------------------------\n"
     ]
    },
    {
     "name": "stderr",
     "output_type": "stream",
     "text": [
      "Epoch 34/70: 100%|██████████████████████████████| 898/898 [00:10<00:00, 84.21batch/s, accuracy=56.3, loss=0.0356]\n"
     ]
    },
    {
     "name": "stdout",
     "output_type": "stream",
     "text": [
      "Epoch 34 : Train Accuracy = 56.34%, Loss = 1023.4680\n",
      "--------------------------------------------------\n"
     ]
    },
    {
     "name": "stderr",
     "output_type": "stream",
     "text": [
      "Epoch 35/70: 100%|██████████████████████████████| 898/898 [00:10<00:00, 87.17batch/s, accuracy=56.7, loss=0.0355]\n",
      "Validation Round 7: 100%|██████████████████████| 113/113 [00:00<00:00, 253.60batch/s, accuracy=58.7, loss=0.0352]\n"
     ]
    },
    {
     "name": "stdout",
     "output_type": "stream",
     "text": [
      "Epoch 35 : Train Accuracy = 56.69%, Loss = 1018.1798\n",
      "--------------------------------------------------\n"
     ]
    },
    {
     "name": "stderr",
     "output_type": "stream",
     "text": [
      "Epoch 36/70: 100%|██████████████████████████████| 898/898 [00:10<00:00, 85.90batch/s, accuracy=56.8, loss=0.0354]\n"
     ]
    },
    {
     "name": "stdout",
     "output_type": "stream",
     "text": [
      "Epoch 36 : Train Accuracy = 56.77%, Loss = 1015.8158\n",
      "--------------------------------------------------\n"
     ]
    },
    {
     "name": "stderr",
     "output_type": "stream",
     "text": [
      "Epoch 37/70: 100%|██████████████████████████████| 898/898 [00:10<00:00, 88.21batch/s, accuracy=56.7, loss=0.0352]\n"
     ]
    },
    {
     "name": "stdout",
     "output_type": "stream",
     "text": [
      "Epoch 37 : Train Accuracy = 56.71%, Loss = 1011.2003\n",
      "--------------------------------------------------\n"
     ]
    },
    {
     "name": "stderr",
     "output_type": "stream",
     "text": [
      "Epoch 38/70: 100%|██████████████████████████████| 898/898 [00:10<00:00, 86.92batch/s, accuracy=57.2, loss=0.0351]\n"
     ]
    },
    {
     "name": "stdout",
     "output_type": "stream",
     "text": [
      "Epoch 38 : Train Accuracy = 57.21%, Loss = 1006.6329\n",
      "--------------------------------------------------\n"
     ]
    },
    {
     "name": "stderr",
     "output_type": "stream",
     "text": [
      "Epoch 39/70: 100%|██████████████████████████████| 898/898 [00:10<00:00, 86.83batch/s, accuracy=57.7, loss=0.0348]\n"
     ]
    },
    {
     "name": "stdout",
     "output_type": "stream",
     "text": [
      "Epoch 39 : Train Accuracy = 57.66%, Loss = 999.1913\n",
      "--------------------------------------------------\n"
     ]
    },
    {
     "name": "stderr",
     "output_type": "stream",
     "text": [
      "Epoch 40/70: 100%|██████████████████████████████| 898/898 [00:11<00:00, 79.44batch/s, accuracy=57.7, loss=0.0347]\n",
      "Validation Round 8: 100%|███████████████████████| 113/113 [00:00<00:00, 230.55batch/s, accuracy=57.9, loss=0.035]\n"
     ]
    },
    {
     "name": "stdout",
     "output_type": "stream",
     "text": [
      "Epoch 40 : Train Accuracy = 57.72%, Loss = 995.5951\n",
      "--------------------------------------------------\n"
     ]
    },
    {
     "name": "stderr",
     "output_type": "stream",
     "text": [
      "Epoch 41/70: 100%|██████████████████████████████| 898/898 [00:11<00:00, 80.89batch/s, accuracy=58.3, loss=0.0343]\n"
     ]
    },
    {
     "name": "stdout",
     "output_type": "stream",
     "text": [
      "Epoch 41 : Train Accuracy = 58.34%, Loss = 984.1762\n",
      "--------------------------------------------------\n"
     ]
    },
    {
     "name": "stderr",
     "output_type": "stream",
     "text": [
      "Epoch 42/70: 100%|███████████████████████████████| 898/898 [00:10<00:00, 87.83batch/s, accuracy=58.6, loss=0.034]\n"
     ]
    },
    {
     "name": "stdout",
     "output_type": "stream",
     "text": [
      "Epoch 42 : Train Accuracy = 58.62%, Loss = 974.7024\n",
      "--------------------------------------------------\n"
     ]
    },
    {
     "name": "stderr",
     "output_type": "stream",
     "text": [
      "Epoch 43/70: 100%|███████████████████████████████| 898/898 [00:10<00:00, 81.75batch/s, accuracy=58.4, loss=0.034]\n"
     ]
    },
    {
     "name": "stdout",
     "output_type": "stream",
     "text": [
      "Epoch 43 : Train Accuracy = 58.35%, Loss = 977.0135\n",
      "--------------------------------------------------\n"
     ]
    },
    {
     "name": "stderr",
     "output_type": "stream",
     "text": [
      "Epoch 44/70: 100%|██████████████████████████████| 898/898 [00:10<00:00, 86.16batch/s, accuracy=59.1, loss=0.0337]\n"
     ]
    },
    {
     "name": "stdout",
     "output_type": "stream",
     "text": [
      "Epoch 44 : Train Accuracy = 59.11%, Loss = 968.8193\n",
      "--------------------------------------------------\n"
     ]
    },
    {
     "name": "stderr",
     "output_type": "stream",
     "text": [
      "Epoch 45/70: 100%|██████████████████████████████| 898/898 [00:10<00:00, 83.05batch/s, accuracy=59.3, loss=0.0335]\n",
      "Validation Round 9: 100%|██████████████████████| 113/113 [00:00<00:00, 250.64batch/s, accuracy=58.7, loss=0.0353]\n"
     ]
    },
    {
     "name": "stdout",
     "output_type": "stream",
     "text": [
      "Epoch 45 : Train Accuracy = 59.28%, Loss = 960.8214\n",
      "--------------------------------------------------\n"
     ]
    },
    {
     "name": "stderr",
     "output_type": "stream",
     "text": [
      "Epoch 46/70: 100%|██████████████████████████████| 898/898 [00:10<00:00, 89.15batch/s, accuracy=59.2, loss=0.0335]\n"
     ]
    },
    {
     "name": "stdout",
     "output_type": "stream",
     "text": [
      "Epoch 46 : Train Accuracy = 59.21%, Loss = 962.7993\n",
      "--------------------------------------------------\n"
     ]
    },
    {
     "name": "stderr",
     "output_type": "stream",
     "text": [
      "Epoch 47/70: 100%|██████████████████████████████| 898/898 [00:10<00:00, 84.79batch/s, accuracy=59.7, loss=0.0334]\n"
     ]
    },
    {
     "name": "stdout",
     "output_type": "stream",
     "text": [
      "Epoch 47 : Train Accuracy = 59.67%, Loss = 958.0747\n",
      "--------------------------------------------------\n"
     ]
    },
    {
     "name": "stderr",
     "output_type": "stream",
     "text": [
      "Epoch 48/70: 100%|██████████████████████████████| 898/898 [00:10<00:00, 87.54batch/s, accuracy=59.6, loss=0.0332]\n"
     ]
    },
    {
     "name": "stdout",
     "output_type": "stream",
     "text": [
      "Epoch 48 : Train Accuracy = 59.61%, Loss = 953.1656\n",
      "--------------------------------------------------\n"
     ]
    },
    {
     "name": "stderr",
     "output_type": "stream",
     "text": [
      "Epoch 49/70: 100%|██████████████████████████████| 898/898 [00:10<00:00, 86.89batch/s, accuracy=59.6, loss=0.0331]\n"
     ]
    },
    {
     "name": "stdout",
     "output_type": "stream",
     "text": [
      "Epoch 49 : Train Accuracy = 59.62%, Loss = 949.7618\n",
      "--------------------------------------------------\n"
     ]
    },
    {
     "name": "stderr",
     "output_type": "stream",
     "text": [
      "Epoch 50/70: 100%|██████████████████████████████| 898/898 [00:10<00:00, 86.40batch/s, accuracy=60.3, loss=0.0329]\n",
      "Validation Round 10: 100%|█████████████████████| 113/113 [00:00<00:00, 220.03batch/s, accuracy=60.1, loss=0.0349]\n"
     ]
    },
    {
     "name": "stdout",
     "output_type": "stream",
     "text": [
      "Epoch 50 : Train Accuracy = 60.28%, Loss = 945.2849\n",
      "--------------------------------------------------\n"
     ]
    },
    {
     "name": "stderr",
     "output_type": "stream",
     "text": [
      "Epoch 51/70: 100%|██████████████████████████████| 898/898 [00:11<00:00, 80.33batch/s, accuracy=59.9, loss=0.0329]\n"
     ]
    },
    {
     "name": "stdout",
     "output_type": "stream",
     "text": [
      "Epoch 51 : Train Accuracy = 59.91%, Loss = 943.8766\n",
      "--------------------------------------------------\n"
     ]
    },
    {
     "name": "stderr",
     "output_type": "stream",
     "text": [
      "Epoch 52/70: 100%|██████████████████████████████| 898/898 [00:10<00:00, 82.65batch/s, accuracy=60.3, loss=0.0326]\n"
     ]
    },
    {
     "name": "stdout",
     "output_type": "stream",
     "text": [
      "Epoch 52 : Train Accuracy = 60.30%, Loss = 936.9040\n",
      "--------------------------------------------------\n"
     ]
    },
    {
     "name": "stderr",
     "output_type": "stream",
     "text": [
      "Epoch 53/70: 100%|██████████████████████████████| 898/898 [00:11<00:00, 81.27batch/s, accuracy=60.4, loss=0.0323]\n"
     ]
    },
    {
     "name": "stdout",
     "output_type": "stream",
     "text": [
      "Epoch 53 : Train Accuracy = 60.42%, Loss = 927.9914\n",
      "--------------------------------------------------\n"
     ]
    },
    {
     "name": "stderr",
     "output_type": "stream",
     "text": [
      "Epoch 54/70: 100%|██████████████████████████████| 898/898 [00:10<00:00, 83.68batch/s, accuracy=60.2, loss=0.0324]\n"
     ]
    },
    {
     "name": "stdout",
     "output_type": "stream",
     "text": [
      "Epoch 54 : Train Accuracy = 60.23%, Loss = 931.5435\n",
      "--------------------------------------------------\n"
     ]
    },
    {
     "name": "stderr",
     "output_type": "stream",
     "text": [
      "Epoch 55/70: 100%|██████████████████████████████| 898/898 [00:10<00:00, 83.41batch/s, accuracy=61.1, loss=0.0321]\n",
      "Validation Round 11: 100%|█████████████████████| 113/113 [00:00<00:00, 239.65batch/s, accuracy=60.3, loss=0.0356]\n"
     ]
    },
    {
     "name": "stdout",
     "output_type": "stream",
     "text": [
      "Epoch 55 : Train Accuracy = 61.10%, Loss = 922.9333\n",
      "--------------------------------------------------\n"
     ]
    },
    {
     "name": "stderr",
     "output_type": "stream",
     "text": [
      "Epoch 56/70: 100%|██████████████████████████████| 898/898 [00:10<00:00, 82.00batch/s, accuracy=61.6, loss=0.0317]\n"
     ]
    },
    {
     "name": "stdout",
     "output_type": "stream",
     "text": [
      "Epoch 56 : Train Accuracy = 61.60%, Loss = 909.7366\n",
      "--------------------------------------------------\n"
     ]
    },
    {
     "name": "stderr",
     "output_type": "stream",
     "text": [
      "Epoch 57/70: 100%|██████████████████████████████| 898/898 [00:11<00:00, 78.16batch/s, accuracy=61.8, loss=0.0315]\n"
     ]
    },
    {
     "name": "stdout",
     "output_type": "stream",
     "text": [
      "Epoch 57 : Train Accuracy = 61.85%, Loss = 905.5371\n",
      "--------------------------------------------------\n"
     ]
    },
    {
     "name": "stderr",
     "output_type": "stream",
     "text": [
      "Epoch 58/70: 100%|██████████████████████████████| 898/898 [00:10<00:00, 81.90batch/s, accuracy=62.1, loss=0.0313]\n"
     ]
    },
    {
     "name": "stdout",
     "output_type": "stream",
     "text": [
      "Epoch 58 : Train Accuracy = 62.05%, Loss = 897.2883\n",
      "--------------------------------------------------\n"
     ]
    },
    {
     "name": "stderr",
     "output_type": "stream",
     "text": [
      "Epoch 59/70: 100%|██████████████████████████████| 898/898 [00:10<00:00, 85.61batch/s, accuracy=62.3, loss=0.0311]\n"
     ]
    },
    {
     "name": "stdout",
     "output_type": "stream",
     "text": [
      "Epoch 59 : Train Accuracy = 62.27%, Loss = 894.0942\n",
      "--------------------------------------------------\n"
     ]
    },
    {
     "name": "stderr",
     "output_type": "stream",
     "text": [
      "Epoch 60/70: 100%|███████████████████████████████| 898/898 [00:10<00:00, 83.09batch/s, accuracy=62.5, loss=0.031]\n",
      "Validation Round 12: 100%|█████████████████████| 113/113 [00:00<00:00, 249.61batch/s, accuracy=59.8, loss=0.0349]\n"
     ]
    },
    {
     "name": "stdout",
     "output_type": "stream",
     "text": [
      "Epoch 60 : Train Accuracy = 62.48%, Loss = 890.2466\n",
      "--------------------------------------------------\n"
     ]
    },
    {
     "name": "stderr",
     "output_type": "stream",
     "text": [
      "Epoch 61/70: 100%|██████████████████████████████| 898/898 [00:10<00:00, 86.92batch/s, accuracy=62.7, loss=0.0307]\n"
     ]
    },
    {
     "name": "stdout",
     "output_type": "stream",
     "text": [
      "Epoch 61 : Train Accuracy = 62.68%, Loss = 882.4633\n",
      "--------------------------------------------------\n"
     ]
    },
    {
     "name": "stderr",
     "output_type": "stream",
     "text": [
      "Epoch 62/70: 100%|██████████████████████████████| 898/898 [00:10<00:00, 84.68batch/s, accuracy=62.7, loss=0.0308]\n"
     ]
    },
    {
     "name": "stdout",
     "output_type": "stream",
     "text": [
      "Epoch 62 : Train Accuracy = 62.66%, Loss = 884.7716\n",
      "--------------------------------------------------\n"
     ]
    },
    {
     "name": "stderr",
     "output_type": "stream",
     "text": [
      "Epoch 63/70: 100%|██████████████████████████████| 898/898 [00:11<00:00, 79.84batch/s, accuracy=62.9, loss=0.0306]\n"
     ]
    },
    {
     "name": "stdout",
     "output_type": "stream",
     "text": [
      "Epoch 63 : Train Accuracy = 62.90%, Loss = 879.2416\n",
      "--------------------------------------------------\n"
     ]
    },
    {
     "name": "stderr",
     "output_type": "stream",
     "text": [
      "Epoch 64/70: 100%|████████████████████████████████| 898/898 [00:10<00:00, 85.46batch/s, accuracy=63, loss=0.0304]\n"
     ]
    },
    {
     "name": "stdout",
     "output_type": "stream",
     "text": [
      "Epoch 64 : Train Accuracy = 63.04%, Loss = 874.1791\n",
      "--------------------------------------------------\n"
     ]
    },
    {
     "name": "stderr",
     "output_type": "stream",
     "text": [
      "Epoch 65/70: 100%|██████████████████████████████| 898/898 [00:10<00:00, 83.37batch/s, accuracy=63.3, loss=0.0303]\n",
      "Validation Round 13: 100%|█████████████████████| 113/113 [00:00<00:00, 256.41batch/s, accuracy=60.8, loss=0.0361]\n"
     ]
    },
    {
     "name": "stdout",
     "output_type": "stream",
     "text": [
      "Epoch 65 : Train Accuracy = 63.29%, Loss = 870.9895\n",
      "--------------------------------------------------\n"
     ]
    },
    {
     "name": "stderr",
     "output_type": "stream",
     "text": [
      "Epoch 66/70: 100%|██████████████████████████████| 898/898 [00:11<00:00, 81.29batch/s, accuracy=63.4, loss=0.0301]\n"
     ]
    },
    {
     "name": "stdout",
     "output_type": "stream",
     "text": [
      "Epoch 66 : Train Accuracy = 63.36%, Loss = 865.0709\n",
      "--------------------------------------------------\n"
     ]
    },
    {
     "name": "stderr",
     "output_type": "stream",
     "text": [
      "Epoch 67/70: 100%|██████████████████████████████| 898/898 [00:10<00:00, 82.32batch/s, accuracy=64.1, loss=0.0299]\n"
     ]
    },
    {
     "name": "stdout",
     "output_type": "stream",
     "text": [
      "Epoch 67 : Train Accuracy = 64.06%, Loss = 858.0396\n",
      "--------------------------------------------------\n"
     ]
    },
    {
     "name": "stderr",
     "output_type": "stream",
     "text": [
      "Epoch 68/70: 100%|██████████████████████████████| 898/898 [00:10<00:00, 83.28batch/s, accuracy=63.4, loss=0.0301]\n"
     ]
    },
    {
     "name": "stdout",
     "output_type": "stream",
     "text": [
      "Epoch 68 : Train Accuracy = 63.40%, Loss = 864.4036\n",
      "--------------------------------------------------\n"
     ]
    },
    {
     "name": "stderr",
     "output_type": "stream",
     "text": [
      "Epoch 69/70: 100%|██████████████████████████████| 898/898 [00:11<00:00, 79.93batch/s, accuracy=64.2, loss=0.0297]\n"
     ]
    },
    {
     "name": "stdout",
     "output_type": "stream",
     "text": [
      "Epoch 69 : Train Accuracy = 64.18%, Loss = 852.2245\n",
      "--------------------------------------------------\n"
     ]
    },
    {
     "name": "stderr",
     "output_type": "stream",
     "text": [
      "Epoch 70/70: 100%|████████████████████████████████| 898/898 [00:10<00:00, 82.60batch/s, accuracy=64, loss=0.0295]\n",
      "Validation Round 14: 100%|██████████████████████| 113/113 [00:00<00:00, 231.06batch/s, accuracy=60.7, loss=0.035]"
     ]
    },
    {
     "name": "stdout",
     "output_type": "stream",
     "text": [
      "Epoch 70 : Train Accuracy = 64.04%, Loss = 845.8452\n",
      "--------------------------------------------------\n"
     ]
    },
    {
     "name": "stderr",
     "output_type": "stream",
     "text": [
      "\n"
     ]
    }
   ],
   "source": [
    "model, train_accuracies, val_accuracies, train_losses, val_losses = train_model(\n",
    "    model=cnn,\n",
    "    train_loader=train_loader,\n",
    "    criterion=criterion,\n",
    "    optimizer=optimizer,\n",
    "    epochs=70,\n",
    "    val_loader=val_loader\n",
    ")"
   ]
  },
  {
   "cell_type": "code",
   "execution_count": 51,
   "id": "d1e50157-eb7a-4fb8-9f25-da69399b5550",
   "metadata": {},
   "outputs": [
    {
     "ename": "AttributeError",
     "evalue": "'float' object has no attribute 'cpu'",
     "output_type": "error",
     "traceback": [
      "\u001b[31m---------------------------------------------------------------------------\u001b[39m",
      "\u001b[31mAttributeError\u001b[39m                            Traceback (most recent call last)",
      "\u001b[36mCell\u001b[39m\u001b[36m \u001b[39m\u001b[32mIn[51]\u001b[39m\u001b[32m, line 1\u001b[39m\n\u001b[32m----> \u001b[39m\u001b[32m1\u001b[39m \u001b[43mline_graph\u001b[49m\u001b[43m(\u001b[49m\u001b[43mtrain_losses\u001b[49m\u001b[43m)\u001b[49m\n",
      "\u001b[36mFile \u001b[39m\u001b[32m~/cnn-project/utils/utils.py:39\u001b[39m, in \u001b[36mline_graph\u001b[39m\u001b[34m(data_tensors, labels, title, xlabel, ylabel, colors)\u001b[39m\n\u001b[32m     37\u001b[39m plt.ylabel(ylabel)\n\u001b[32m     38\u001b[39m plt.legend()\n\u001b[32m---> \u001b[39m\u001b[32m39\u001b[39m plt.grid(\u001b[38;5;28;01mTrue\u001b[39;00m)\n\u001b[32m     40\u001b[39m plt.show()\n",
      "\u001b[31mAttributeError\u001b[39m: 'float' object has no attribute 'cpu'"
     ]
    },
    {
     "data": {
      "text/plain": [
       "<Figure size 1000x600 with 0 Axes>"
      ]
     },
     "metadata": {},
     "output_type": "display_data"
    }
   ],
   "source": [
    "line_graph(train_losses)"
   ]
  },
  {
   "cell_type": "code",
   "execution_count": 54,
   "id": "d44c781a-e4f3-42cf-b30e-33da32913044",
   "metadata": {},
   "outputs": [
    {
     "name": "stdout",
     "output_type": "stream",
     "text": [
      "              precision    recall  f1-score   support\n",
      "\n",
      "           0       0.56      0.51      0.53       491\n",
      "           1       0.00      0.00      0.00        55\n",
      "           2       0.45      0.30      0.36       528\n",
      "           3       0.83      0.85      0.84       879\n",
      "           4       0.45      0.60      0.51       594\n",
      "           5       0.80      0.72      0.76       416\n",
      "           6       0.58      0.66      0.62       626\n",
      "\n",
      "    accuracy                           0.62      3589\n",
      "   macro avg       0.52      0.52      0.52      3589\n",
      "weighted avg       0.61      0.62      0.61      3589\n",
      "\n"
     ]
    },
    {
     "name": "stderr",
     "output_type": "stream",
     "text": [
      "/Users/ravisaulog/cnn-project/cnnenv/lib/python3.13/site-packages/sklearn/metrics/_classification.py:1565: UndefinedMetricWarning: Precision is ill-defined and being set to 0.0 in labels with no predicted samples. Use `zero_division` parameter to control this behavior.\n",
      "  _warn_prf(average, modifier, f\"{metric.capitalize()} is\", len(result))\n",
      "/Users/ravisaulog/cnn-project/cnnenv/lib/python3.13/site-packages/sklearn/metrics/_classification.py:1565: UndefinedMetricWarning: Precision is ill-defined and being set to 0.0 in labels with no predicted samples. Use `zero_division` parameter to control this behavior.\n",
      "  _warn_prf(average, modifier, f\"{metric.capitalize()} is\", len(result))\n",
      "/Users/ravisaulog/cnn-project/cnnenv/lib/python3.13/site-packages/sklearn/metrics/_classification.py:1565: UndefinedMetricWarning: Precision is ill-defined and being set to 0.0 in labels with no predicted samples. Use `zero_division` parameter to control this behavior.\n",
      "  _warn_prf(average, modifier, f\"{metric.capitalize()} is\", len(result))\n"
     ]
    }
   ],
   "source": [
    "from sklearn.metrics import classification_report\n",
    "\n",
    "model.eval()  \n",
    "\n",
    "y_true = []\n",
    "y_pred = []\n",
    "\n",
    "with torch.no_grad():  \n",
    "    for images, labels in test_loader:\n",
    "        images = images.to(device)\n",
    "        labels = labels.to(device)\n",
    "\n",
    "        outputs = model(images)\n",
    "        _, predicted = torch.max(outputs, 1) \n",
    "\n",
    "        y_true.extend(labels.cpu().numpy())\n",
    "        y_pred.extend(predicted.cpu().numpy())\n",
    "\n",
    "print(classification_report(y_true, y_pred))"
   ]
  },
  {
   "cell_type": "code",
   "execution_count": 55,
   "id": "b9ce1b3f-8cbc-4ed6-a2e4-6aab2e36aa67",
   "metadata": {},
   "outputs": [],
   "source": [
    "EMOTION_LABELS = {\n",
    "    0: 'Angry',\n",
    "    1: 'Disgust',\n",
    "    2: 'Fear',\n",
    "    3: 'Happy',\n",
    "    4: 'Sad',\n",
    "    5: 'Surprise',\n",
    "    6: 'Neutral'\n",
    "}"
   ]
  },
  {
   "cell_type": "code",
   "execution_count": 56,
   "id": "5c11c9dc-c48d-4734-afdf-228e943cab18",
   "metadata": {},
   "outputs": [
    {
     "name": "stderr",
     "output_type": "stream",
     "text": [
      "2025-05-21 14:51:56.026 python[30765:9090896] +[IMKClient subclass]: chose IMKClient_Modern\n",
      "2025-05-21 14:51:56.026 python[30765:9090896] +[IMKInputSession subclass]: chose IMKInputSession_Modern\n"
     ]
    }
   ],
   "source": [
    "device = torch.device(\"mps\" if torch.backends.mps.is_available() else \"cpu\")\n",
    "model = model.to(device)\n",
    "\n",
    "EMOTION_LABELS = ['Angry', 'Disgust', 'Fear', 'Happy', 'Sad', 'Surprise', 'Neutral']\n",
    "\n",
    "face_cascade = cv2.CascadeClassifier(cv2.data.haarcascades + 'haarcascade_frontalface_default.xml')\n",
    "\n",
    "cap = cv2.VideoCapture(0)\n",
    "if not cap.isOpened():\n",
    "    print(\"Webcam could not be opened.\")\n",
    "    exit()\n",
    "\n",
    "try:\n",
    "    while True:\n",
    "        start_time = cv2.getTickCount()\n",
    "\n",
    "        ret, frame = cap.read()\n",
    "        if not ret:\n",
    "            print(\"Could not read frame.\")\n",
    "            continue\n",
    "\n",
    "        gray = cv2.cvtColor(frame, cv2.COLOR_BGR2GRAY)\n",
    "        faces = face_cascade.detectMultiScale(gray, scaleFactor=1.1, minNeighbors=5, minSize=(30, 30))\n",
    "\n",
    "        for (x, y, w, h) in faces:\n",
    "            face = gray[y:y+h, x:x+w]\n",
    "            face_resized = cv2.resize(face, (48, 48))\n",
    "            face_normalized = face_resized.astype('float32') / 255.0\n",
    "            face_tensor = torch.tensor(face_normalized).unsqueeze(0).unsqueeze(0).float().to(device)\n",
    "            assert face_tensor.size() == torch.Size([1, 1, 48, 48])\n",
    "\n",
    "            model.eval()\n",
    "            with torch.no_grad():\n",
    "                outputs = model(face_tensor)\n",
    "                softmax_outputs = F.softmax(outputs, dim=1)\n",
    "                prob, predicted = torch.max(softmax_outputs, 1)\n",
    "                emotion = EMOTION_LABELS[predicted.item()]\n",
    "                \n",
    "                \n",
    "\n",
    "\n",
    "            cv2.rectangle(frame, (x, y), (x + w, y + h), (0, 255, 0), 2)\n",
    "            cv2.putText(frame, f\"{emotion} : {prob.item() * 100 :.2f} %\", (x, y - 10), cv2.FONT_HERSHEY_SIMPLEX, \n",
    "                        0.6, (0, 255, 0), 2, cv2.LINE_AA)\n",
    "\n",
    "        fps = cv2.getTickFrequency() / (cv2.getTickCount() - start_time)\n",
    "        cv2.putText(frame, f\"FPS: {fps:.1f}\", (10, 30), cv2.FONT_HERSHEY_SIMPLEX,\n",
    "                    0.7, (255, 255, 255), 2, cv2.LINE_AA)\n",
    "\n",
    "        cv2.imshow(\"Emotion Detection\", frame)\n",
    "\n",
    "        if cv2.waitKey(1) & 0xFF == ord('q'):\n",
    "            break\n",
    "\n",
    "except Exception as e:\n",
    "    print(f\"An error occurred: {e}\")\n",
    "\n",
    "finally:\n",
    "    cap.release()\n",
    "    cv2.destroyAllWindows()"
   ]
  },
  {
   "cell_type": "code",
   "execution_count": 1,
   "id": "e3f14dbc-b82c-4738-9a2c-546529888590",
   "metadata": {},
   "outputs": [
    {
     "ename": "NameError",
     "evalue": "name 'model' is not defined",
     "output_type": "error",
     "traceback": [
      "\u001b[31m---------------------------------------------------------------------------\u001b[39m",
      "\u001b[31mNameError\u001b[39m                                 Traceback (most recent call last)",
      "\u001b[36mCell\u001b[39m\u001b[36m \u001b[39m\u001b[32mIn[1]\u001b[39m\u001b[32m, line 1\u001b[39m\n\u001b[32m----> \u001b[39m\u001b[32m1\u001b[39m \u001b[43mmodel\u001b[49m\n",
      "\u001b[31mNameError\u001b[39m: name 'model' is not defined"
     ]
    }
   ],
   "source": [
    "model"
   ]
  },
  {
   "cell_type": "code",
   "execution_count": null,
   "id": "0fb4765d-1d8f-4942-a9ec-5f6bf8663f2b",
   "metadata": {},
   "outputs": [],
   "source": []
  }
 ],
 "metadata": {
  "kernelspec": {
   "display_name": "Python 3 (ipykernel)",
   "language": "python",
   "name": "python3"
  },
  "language_info": {
   "codemirror_mode": {
    "name": "ipython",
    "version": 3
   },
   "file_extension": ".py",
   "mimetype": "text/x-python",
   "name": "python",
   "nbconvert_exporter": "python",
   "pygments_lexer": "ipython3",
   "version": "3.13.2"
  }
 },
 "nbformat": 4,
 "nbformat_minor": 5
}
