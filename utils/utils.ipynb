{
 "cells": [
  {
   "cell_type": "code",
   "execution_count": 4,
   "id": "c70baa8c-3862-42b6-ae33-4434712b455c",
   "metadata": {},
   "outputs": [],
   "source": [
    "# PyTorch Core\n",
    "import torch\n",
    "import torch.nn as nn\n",
    "import torch.optim as optim\n",
    "from torch.utils.data import DataLoader\n",
    "\n",
    "# NumPy for data handling\n",
    "import numpy as np\n",
    "\n",
    "# Image handling\n",
    "from PIL import Image\n",
    "import torchvision.transforms as transforms\n",
    "import torchvision.datasets as datasets\n",
    "\n",
    "# Visualization\n",
    "import matplotlib.pyplot as plt\n",
    "import seaborn as sns\n",
    "\n",
    "# Sklearn for metrics\n",
    "from sklearn.metrics import confusion_matrix, classification_report\n",
    "\n",
    "# Misc utilities\n",
    "import random\n",
    "import os\n",
    "import time\n",
    "import copy\n",
    "from tqdm import tqdm"
   ]
  },
  {
   "cell_type": "code",
   "execution_count": null,
   "id": "55624843-a591-4e31-a335-be1cf19648b8",
   "metadata": {},
   "outputs": [],
   "source": [
    "def line_graph(data_tensors, labels=None, title=None, xlabel=\"Epochs\", ylabel=\"Value\", colors=None):\n",
    "    if labels is None:\n",
    "        labels = [f\"Dataset {i+1}\" for i in range(len(data_tensors))]\n",
    "    \n",
    "    if colors is None:\n",
    "        colors = plt.cm.viridis(np.linspace(0, 1, len(data_tensors)))  \n",
    "    \n",
    "    plt.figure(figsize=(10, 6))\n",
    "    \n",
    "    for i, data in enumerate(data_tensors):\n",
    "        plt.plot(data.cpu().numpy(), label=labels[i], color=colors[i], lw=2)\n",
    "    plt.title(title)\n",
    "    plt.xlabel(xlabel)\n",
    "    plt.ylabel(ylabel)\n",
    "    plt.legend()\n",
    "    plt.grid(True)\n",
    "    plt.show()    "
   ]
  }
 ],
 "metadata": {
  "kernelspec": {
   "display_name": "Python 3 (ipykernel)",
   "language": "python",
   "name": "python3"
  },
  "language_info": {
   "codemirror_mode": {
    "name": "ipython",
    "version": 3
   },
   "file_extension": ".py",
   "mimetype": "text/x-python",
   "name": "python",
   "nbconvert_exporter": "python",
   "pygments_lexer": "ipython3",
   "version": "3.9.6"
  }
 },
 "nbformat": 4,
 "nbformat_minor": 5
}
